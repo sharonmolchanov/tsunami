{
 "cells": [
  {
   "cell_type": "code",
   "execution_count": 26,
   "metadata": {
    "collapsed": true
   },
   "outputs": [],
   "source": [
    "# Populating the interactive namespace from numpy, matplotlib, math, scipy, clawpack.geoclaw, pymap3d\n",
    "%matplotlib inline\n",
    "import matplotlib.pyplot as plt\n",
    "import numpy as np\n",
    "from math import *\n",
    "from scipy import interpolate\n",
    "from clawpack.geoclaw import fgmax_tools, geoplot #import fgmax_tools\n",
    "from pymap3d import geodetic2ned as g2ned"
   ]
  },
  {
   "cell_type": "code",
   "execution_count": 25,
   "metadata": {
    "collapsed": true
   },
   "outputs": [],
   "source": [
    "def haversine(lon1, lat1, lon2, lat2):\n",
    "    \"\"\"\n",
    "    Calculate the great circle distance between two points \n",
    "    on the earth (specified in decimal degrees) using haversine \n",
    "    formula. As an input receives coordinates of the two points\n",
    "    (the longitude  and the latitude of the first point and the \n",
    "    longitude and the latitude of the second point, respectfully)\n",
    "    \"\"\"\n",
    "    # convert decimal degrees to radians \n",
    "    lon1, lat1, lon2, lat2 = map(radians, [lon1, lat1, lon2, lat2])\n",
    "    \n",
    "    # haversine formula \n",
    "    dlon = lon2 - lon1 \n",
    "    dlat = lat2 - lat1 \n",
    "    a = sin(dlat/2)**2 + cos(lat1) * cos(lat2) * sin(dlon/2)**2\n",
    "    c = 2 * asin(sqrt(a)) \n",
    "    \n",
    "    # radius of earth in kilometers is 6371\n",
    "    dist = 6371000* c\n",
    "\n",
    "    return dist"
   ]
  },
  {
   "cell_type": "code",
   "execution_count": 27,
   "metadata": {
    "collapsed": true
   },
   "outputs": [],
   "source": [
    "def find_inundation(runup_lon, runup_lat, coast_lon, coast_lat):\n",
    "     \"\"\"\n",
    "    Calculate the inundation by finding the shortest distance to the coastline \n",
    "    which is done by checking distances from the point \n",
    "    at the given water elevation level to each point on the coastline and the \n",
    "    distances to the segments of the coastline closest to the point.\n",
    "    As an input receives vectors of coordinates of the given water elevation level\n",
    "    (longitude and latitude, respectfully) and the coastline (longitude and latitude).\n",
    "    \"\"\"\n",
    "    inundation = np.zeros(len(runup_lon))\n",
    "    len_runup = len(runup_lon)\n",
    "    len_coast = len(coast_lon)\n",
    "    \n",
    "    # for each point on the given water elevation level\n",
    "    for i in range(len_runup):\n",
    "        ddist = 100000*np.ones(2*len_coast)\n",
    "        \n",
    "        # checking each point on the coastline\n",
    "        for j in range(len_coast):\n",
    "            # calculating great circle distance between two points\n",
    "            ddist[j] = haversine(runup_lon[i], runup_lat[i], coast_lon[j], coast_lat[j])\n",
    "            \n",
    "            # checking a position of the segment relative to the point by calculating two angles\n",
    "            if j != (len_coast - 1):\n",
    "                # calculating cartesian coordinates of the current and the next points on the coastline\n",
    "                # relative to the current point at the given water elevetaion level\n",
    "                l1 = g2ned(coast_lat[j], coast_lon[j], 0, runup_lat[i], runup_lon[i], 0, ell=None, deg=True)\n",
    "                l2 = g2ned(coast_lat[j + 1], coast_lon[j + 1], 0, runup_lat[i], runup_lon[i], 0, ell=None, deg=True)\n",
    "                l1 = np.array(l1)\n",
    "                l2 = np.array(l2)\n",
    "                \n",
    "                # calculating the first angle\n",
    "                lenx1 = np.linalg.norm(l1) \n",
    "                lenx2x1 = np.linalg.norm(l2 - l1)\n",
    "                theta1 = acos(np.dot(l1, l2 - l1)/lenx1/lenx2x1)\n",
    "                \n",
    "                if theta1 < pi/2:\n",
    "                    # if the first angle is less than 90, calculating the second angle\n",
    "                    theta2 = asin(lenx1*sin(theta1)/np.linalg.norm(l2))\n",
    "                    \n",
    "                    if theta2 < pi/2:\n",
    "                        # if also the second angle is less than 90, calculating the shortest distance to the line\n",
    "                        # defined by the two points on the coastline\n",
    "                        ddist[j + len_coast] = np.linalg.norm(np.cross(l2-l1, l1))/lenx2x1\n",
    "                        \n",
    "        inundation[i] = np.nanmin(ddist)\n",
    "        \n",
    "    return inundation"
   ]
  },
  {
   "cell_type": "code",
   "execution_count": 59,
   "metadata": {},
   "outputs": [],
   "source": [
    "def runup_inundation(crd):\n",
    "    \"\"\"\n",
    "    Calculate the runup and the inundation for given area\n",
    "    (crd = [min(longitude), max(longitude), min(latitude), max(latitude)] )\n",
    "    \"\"\"\n",
    "    # reading the GeoClaw output\n",
    "    fg = fgmax_tools.FGmaxGrid()\n",
    "    fg.read_input_data(\"fgmax_grid.txt\")\n",
    "    fg.read_output(outdir=\"_output\")\n",
    "    \n",
    "    # calculating surface elevation in ocean\n",
    "    zeta = np.where(fg.B>0, fg.h, fg.h+fg.B) \n",
    "    \n",
    "    # calculating indices for the given area\n",
    "    idx = [idx for idx in range(len(fg.X)) if fg.X[idx,1] >= crd[0] and fg.X[idx,1] <= crd[1]]\n",
    "    idy = [idy for idy in range(len(fg.X[1,:])) if fg.Y[1,idy] >= crd[2] and fg.Y[1,idy] <= crd[3]]\n",
    "    x1 = min(idx)\n",
    "    x2 = max(idx) + 1\n",
    "    y1 = min(idy)\n",
    "    y2 = max(idy) + 1\n",
    "    \n",
    "    # calculating the coastline and the line of zero (or close to zero) water elevation\n",
    "    b0 = plt.contour(fg.X[x1:x2, y1:y2],fg.Y[x1:x2, y1:y2],fg.B[x1:x2, y1:y2], levels=[0]); plt.clf()  # coastline\n",
    "    h0 = plt.contour(fg.X[x1:x2, y1:y2],fg.Y[x1:x2, y1:y2],zeta[x1:x2, y1:y2], levels=[0.001]); plt.clf()\n",
    "    xy_runup = h0.collections[0].get_paths()[0].vertices\n",
    "    xy_coast = b0.collections[0].get_paths()[0].vertices\n",
    "    \n",
    "    # calculating the runup by interpolating the bathimetry on the line of zero water elevation\n",
    "    runup = interpolate.griddata((fg.X[x1:x2, y1:y2].flatten(), fg.Y[x1:x2, y1:y2].flatten()), fg.B[x1:x2, y1:y2].flatten(), xy_runup, \"cubic\")\n",
    "    \n",
    "    # calculating the inundation\n",
    "    inundation = find_inundation(xy_runup[:,0], xy_runup[:,1], xy_coast[:,0], xy_coast[:,1])\n",
    "    \n",
    "    return runup, inundation, xy_runup"
   ]
  },
  {
   "cell_type": "code",
   "execution_count": 60,
   "metadata": {},
   "outputs": [
    {
     "name": "stdout",
     "output_type": "stream",
     "text": [
      "Reading _output/fort.FG1.valuemax ...\n",
      "Reading _output/fort.FG1.aux1 ...\n"
     ]
    },
    {
     "data": {
      "text/plain": [
       "<matplotlib.figure.Figure at 0x181bb32eb8>"
      ]
     },
     "metadata": {},
     "output_type": "display_data"
    }
   ],
   "source": [
    "[runup, inundation, xy_runup] = runup_inundation([33.4, 35.5, 30.7, 33.8])"
   ]
  },
  {
   "cell_type": "code",
   "execution_count": 61,
   "metadata": {},
   "outputs": [
    {
     "data": {
      "text/plain": [
       "array([ 2256.57471205,  1204.43545796,  5500.70261727,     7.48911995,\n",
       "        1599.55729795,  2337.38217403,   815.0249948 ,  2355.38755957,\n",
       "         645.86386495,   265.16323118,  1261.64619428,   618.2627674 ,\n",
       "        2239.46084533,  1915.01398396,  1077.2608209 ,   428.30835281,\n",
       "         712.84671552,  1514.21240179,  1036.41637977,  3665.31860766,\n",
       "        3355.6492353 ,   780.47787673,   392.56487715,  1050.3684879 ,\n",
       "        3876.78922719,   868.23229789,  1551.33795639,  5103.9008256 ])"
      ]
     },
     "execution_count": 61,
     "metadata": {},
     "output_type": "execute_result"
    }
   ],
   "source": [
    "inundation"
   ]
  },
  {
   "cell_type": "code",
   "execution_count": 38,
   "metadata": {},
   "outputs": [
    {
     "data": {
      "text/plain": [
       "[<matplotlib.lines.Line2D at 0x181bee82b0>]"
      ]
     },
     "execution_count": 38,
     "metadata": {},
     "output_type": "execute_result"
    },
    {
     "data": {
      "image/png": "[encoded data removed]",
      "text/plain": [
       "<matplotlib.figure.Figure at 0x181bf8a5c0>"
      ]
     },
     "metadata": {},
     "output_type": "display_data"
    }
   ],
   "source": [
    "plt.figure(figsize=(5, 5))\n",
    "b0 = plt.contour(fg.X[x1:x2, y1:y2],fg.Y[x1:x2, y1:y2],fg.B[x1:x2, y1:y2], levels=[0])  # coastline\n",
    "h0 = plt.contour(fg.X[x1:x2, y1:y2],fg.Y[x1:x2, y1:y2],zeta[x1:x2, y1:y2], levels=[0.001])\n",
    "plt.scatter(xy_runup[:, 0], xy_runup[:, 1], c=runup, cmap=\"bwr\")\n",
    "plt.plot(xy_coast[:, 0], xy_coast[:, 1], 'k.')"
   ]
  },
  {
   "cell_type": "code",
   "execution_count": 62,
   "metadata": {},
   "outputs": [
    {
     "data": {
      "text/plain": [
       "array([-275.33339993,   57.51064131,  329.17416218,   -2.56043636,\n",
       "        -35.23119966,  229.62606747,  141.60367348,   47.05430154,\n",
       "         58.10788463,    5.38648789,   47.99609292,   21.59846163,\n",
       "         61.38809617,   77.73886264,    9.79963215,    5.46043014,\n",
       "         36.92564854,   60.78610233,   64.09092188,   60.45820125,\n",
       "         57.40375792,   53.2275138 ,    0.33156706,    2.58366879,\n",
       "         56.75904206,   36.22966426,   17.28773212,    4.18404113])"
      ]
     },
     "execution_count": 62,
     "metadata": {},
     "output_type": "execute_result"
    }
   ],
   "source": [
    "runup"
   ]
  },
  {
   "cell_type": "code",
   "execution_count": null,
   "metadata": {
    "collapsed": true
   },
   "outputs": [],
   "source": []
  }
 ],
 "metadata": {
  "kernelspec": {
   "display_name": "Python 3",
   "language": "python",
   "name": "python3"
  },
  "language_info": {
   "codemirror_mode": {
    "name": "ipython",
    "version": 3
   },
   "file_extension": ".py",
   "mimetype": "text/x-python",
   "name": "python",
   "nbconvert_exporter": "python",
   "pygments_lexer": "ipython3",
   "version": "3.6.4"
  }
 },
 "nbformat": 4,
 "nbformat_minor": 2
}
