{
 "cells": [
  {
   "cell_type": "code",
   "execution_count": 70,
   "metadata": {
    "collapsed": true
   },
   "outputs": [],
   "source": [
    "# Populating the interactive namespace from numpy, matplotlib, math, scipy, clawpack.geoclaw, pymap3d\n",
    "%matplotlib inline\n",
    "import matplotlib.pyplot as plt\n",
    "import numpy as np\n",
    "from math import *\n",
    "from scipy import interpolate\n",
    "from clawpack.geoclaw import fgmax_tools, geoplot #import fgmax_tools\n",
    "from pymap3d import geodetic2ned as g2ned"
   ]
  },
  {
   "cell_type": "code",
   "execution_count": 25,
   "metadata": {
    "collapsed": true
   },
   "outputs": [],
   "source": [
    "def haversine(lon1, lat1, lon2, lat2):\n",
    "    \"\"\"\n",
    "    Calculate the great circle distance between two points \n",
    "    on the earth (specified in decimal degrees) using haversine \n",
    "    formula. As an input receives coordinates of the two points\n",
    "    (the longitude  and the latitude of the first point and the \n",
    "    longitude and the latitude of the second point, respectfully)\n",
    "    \"\"\"\n",
    "    # convert decimal degrees to radians \n",
    "    lon1, lat1, lon2, lat2 = map(radians, [lon1, lat1, lon2, lat2])\n",
    "    \n",
    "    # haversine formula \n",
    "    dlon = lon2 - lon1 \n",
    "    dlat = lat2 - lat1 \n",
    "    a = sin(dlat/2)**2 + cos(lat1) * cos(lat2) * sin(dlon/2)**2\n",
    "    c = 2 * asin(sqrt(a)) \n",
    "    \n",
    "    # radius of earth in kilometers is 6371\n",
    "    dist = 6371000* c\n",
    "\n",
    "    return dist"
   ]
  },
  {
   "cell_type": "code",
   "execution_count": 27,
   "metadata": {
    "collapsed": true
   },
   "outputs": [],
   "source": [
    "def find_inundation(runup_lon, runup_lat, coast_lon, coast_lat):\n",
    "     \"\"\"\n",
    "    Calculate the inundation by finding the shortest distance to the coastline \n",
    "    which is done by checking distances from the point \n",
    "    at the given water elevation level to each point on the coastline and the \n",
    "    distances to the segments of the coastline closest to the point.\n",
    "    As an input receives vectors of coordinates of the given water elevation level\n",
    "    (longitude and latitude, respectfully) and the coastline (longitude and latitude).\n",
    "    \"\"\"\n",
    "    inundation = np.zeros(len(runup_lon))\n",
    "    len_runup = len(runup_lon)\n",
    "    len_coast = len(coast_lon)\n",
    "    \n",
    "    # for each point on the given water elevation level\n",
    "    for i in range(len_runup):\n",
    "        ddist = 100000*np.ones(2*len_coast)\n",
    "        \n",
    "        # checking each point on the coastline\n",
    "        for j in range(len_coast):\n",
    "            # calculating great circle distance between two points\n",
    "            ddist[j] = haversine(runup_lon[i], runup_lat[i], coast_lon[j], coast_lat[j])\n",
    "            \n",
    "            # checking a position of the segment relative to the point by calculating two angles\n",
    "            if j != (len_coast - 1):\n",
    "                # calculating cartesian coordinates of the current and the next points on the coastline\n",
    "                # relative to the current point at the given water elevetaion level\n",
    "                l1 = g2ned(coast_lat[j], coast_lon[j], 0, runup_lat[i], runup_lon[i], 0, ell=None, deg=True)\n",
    "                l2 = g2ned(coast_lat[j + 1], coast_lon[j + 1], 0, runup_lat[i], runup_lon[i], 0, ell=None, deg=True)\n",
    "                l1 = np.array(l1)\n",
    "                l2 = np.array(l2)\n",
    "                \n",
    "                # calculating the first angle\n",
    "                lenx1 = np.linalg.norm(l1) \n",
    "                lenx2x1 = np.linalg.norm(l2 - l1)\n",
    "                theta1 = acos(np.dot(l1, l2 - l1)/lenx1/lenx2x1)\n",
    "                \n",
    "                if theta1 < pi/2:\n",
    "                    # if the first angle is less than 90, calculating the second angle\n",
    "                    theta2 = asin(lenx1*sin(theta1)/np.linalg.norm(l2))\n",
    "                    \n",
    "                    if theta2 < pi/2:\n",
    "                        # if also the second angle is less than 90, calculating the shortest distance to the line\n",
    "                        # defined by the two points on the coastline\n",
    "                        ddist[j + len_coast] = np.linalg.norm(np.cross(l2-l1, l1))/lenx2x1\n",
    "                        \n",
    "        inundation[i] = np.nanmin(ddist)\n",
    "        \n",
    "    return inundation"
   ]
  },
  {
   "cell_type": "code",
   "execution_count": 59,
   "metadata": {},
   "outputs": [],
   "source": [
    "def runup_inundation(crd):\n",
    "    \"\"\"\n",
    "    Calculate the runup and the inundation for given area\n",
    "    (crd = [min(longitude), max(longitude), min(latitude), max(latitude)] )\n",
    "    \"\"\"\n",
    "    # reading the GeoClaw output\n",
    "    fg = fgmax_tools.FGmaxGrid()\n",
    "    fg.read_input_data(\"fgmax_grid.txt\")\n",
    "    fg.read_output(outdir=\"_output\")\n",
    "    \n",
    "    # calculating surface elevation in ocean\n",
    "    zeta = np.where(fg.B>0, fg.h, fg.h+fg.B) \n",
    "    \n",
    "    # calculating indices for the given area\n",
    "    idx = [idx for idx in range(len(fg.X)) if fg.X[idx,1] >= crd[0] and fg.X[idx,1] <= crd[1]]\n",
    "    idy = [idy for idy in range(len(fg.X[1,:])) if fg.Y[1,idy] >= crd[2] and fg.Y[1,idy] <= crd[3]]\n",
    "    x1 = min(idx)\n",
    "    x2 = max(idx) + 1\n",
    "    y1 = min(idy)\n",
    "    y2 = max(idy) + 1\n",
    "    \n",
    "    # calculating the coastline and the line of zero (or close to zero) water elevation\n",
    "    b0 = plt.contour(fg.X[x1:x2, y1:y2],fg.Y[x1:x2, y1:y2],fg.B[x1:x2, y1:y2], levels=[0]); plt.clf()  # coastline\n",
    "    h0 = plt.contour(fg.X[x1:x2, y1:y2],fg.Y[x1:x2, y1:y2],zeta[x1:x2, y1:y2], levels=[0.001]); plt.clf()\n",
    "    xy_runup = h0.collections[0].get_paths()[0].vertices\n",
    "    xy_coast = b0.collections[0].get_paths()[0].vertices\n",
    "    \n",
    "    # calculating the runup by interpolating the bathimetry on the line of zero water elevation\n",
    "    runup = interpolate.griddata((fg.X[x1:x2, y1:y2].flatten(), fg.Y[x1:x2, y1:y2].flatten()), fg.B[x1:x2, y1:y2].flatten(), xy_runup, \"cubic\")\n",
    "    \n",
    "    # calculating the inundation\n",
    "    inundation = find_inundation(xy_runup[:,0], xy_runup[:,1], xy_coast[:,0], xy_coast[:,1])\n",
    "    \n",
    "    return runup, inundation, xy_runup"
   ]
  },
  {
   "cell_type": "code",
   "execution_count": 63,
   "metadata": {},
   "outputs": [
    {
     "name": "stdout",
     "output_type": "stream",
     "text": [
      "Reading _output/fort.FG1.valuemax ...\n",
      "Reading _output/fort.FG1.aux1 ...\n"
     ]
    },
    {
     "data": {
      "text/plain": [
       "<matplotlib.figure.Figure at 0x1116906d8>"
      ]
     },
     "metadata": {},
     "output_type": "display_data"
    }
   ],
   "source": [
    "[runup, inundation, xy_runup] = runup_inundation([33.4, 35.5, 30.7, 33.8])"
   ]
  },
  {
   "cell_type": "code",
   "execution_count": 64,
   "metadata": {},
   "outputs": [
    {
     "data": {
      "text/plain": [
       "array([ 1850.08628561,  1845.47389923,   407.28366954,   448.09571182,\n",
       "          29.38552628,   316.9566466 ,   726.07259506,  1230.29594175,\n",
       "          39.00777895,   204.17700478,   202.63590083,   278.07602337,\n",
       "         295.94851228,   241.92722708,    80.78309219,    58.61987158,\n",
       "         120.2219124 ,    14.30692152,   436.65068219,   183.90133513,\n",
       "         410.18110225,   105.19316333,   130.09915012,   110.46066246,\n",
       "          76.69587046,    49.69250052,   198.77836112,    74.20119372,\n",
       "          93.49751608,   112.33336742,   159.26556788,    48.96437903,\n",
       "         724.71302359,  1372.84137258,  1390.61056874,   121.01517634,\n",
       "         699.08619097,  1124.03827918,   833.10602997,  1379.49237816,\n",
       "        1211.25145087,   652.94985015,  1310.78115737,   446.11701676,\n",
       "         554.63907313,   981.71066195,  1314.72109785,  1163.05089233,\n",
       "        1115.87955621,   950.71073498,   351.80241902,   337.00727341,\n",
       "          89.4717388 ,    88.81748114,   271.23775855,   211.14085965,\n",
       "          77.7949909 ,   808.25715131,   973.97785283,   606.42946649,\n",
       "          92.61672468,   734.87741049,   320.9265355 ,   126.90460308,\n",
       "         556.96612893,  1242.94139217,  1933.13557118,  1040.88908928,\n",
       "         245.86099626,   251.51448473,  1630.32120124,  1375.00997864,\n",
       "        1039.29696319,  2145.54111397,  2625.33242805,   346.66622192,\n",
       "        1805.92532048,  1304.62666708,   980.35932134,  2295.29845767,\n",
       "        2684.46144186,  1192.73852963,   250.98703109,  1167.48773181,\n",
       "        1823.12191544,  1548.03487628,   724.85770843,  1306.30410576,\n",
       "        1831.02119256,  2448.5421448 ,  2216.06440084,   284.81272189,\n",
       "         734.84366171,   733.34970242,   663.86361074,    42.11550083,\n",
       "          72.21328024,   233.68966333,  1035.27554695,   890.81352501,\n",
       "        1359.42957113,  1585.90514752,   567.90149225,   303.50948673,\n",
       "         201.07443484,    16.86941884,    44.97034316,   691.26695214,\n",
       "         527.33369986,  1252.3205173 ,  3628.98073688,  3675.438601  ,\n",
       "        3594.86909701,  2870.62339654])"
      ]
     },
     "execution_count": 64,
     "metadata": {},
     "output_type": "execute_result"
    }
   ],
   "source": [
    "inundation"
   ]
  },
  {
   "cell_type": "code",
   "execution_count": 71,
   "metadata": {},
   "outputs": [
    {
     "name": "stdout",
     "output_type": "stream",
     "text": [
      "Reading _output/fort.FG1.valuemax ...\n",
      "Reading _output/fort.FG1.aux1 ...\n"
     ]
    }
   ],
   "source": [
    "fg = fgmax_tools.FGmaxGrid()\n",
    "fg.read_input_data(\"fgmax_grid.txt\")\n",
    "fg.read_output(outdir=\"_output\")\n",
    "    \n",
    "    # calculating surface elevation in ocean\n",
    "zeta = np.where(fg.B>0, fg.h, fg.h+fg.B) \n",
    "    \n",
    "    # calculating indices for the given areaidx = [idx for idx in range(len(fg.X)) if fg.X[idx,1] >= crd[0] and fg.X[idx,1] <= crd[1]]\n",
    "idy = [idy for idy in range(len(fg.X[1,:])) if fg.Y[1,idy] >= crd[2] and fg.Y[1,idy] <= crd[3]]\n",
    "x1 = min(idx)\n",
    "x2 = max(idx) + 1\n",
    "y1 = min(idy)\n",
    "y2 = max(idy) + 1"
   ]
  },
  {
   "cell_type": "code",
   "execution_count": 73,
   "metadata": {},
   "outputs": [
    {
     "name": "stderr",
     "output_type": "stream",
     "text": [
      "/Users/sharon/anaconda3/lib/python3.6/site-packages/matplotlib/contour.py:967: UserWarning: The following kwargs were not used by contour: 'color'\n",
      "  s)\n"
     ]
    },
    {
     "data": {
      "text/plain": [
       "<matplotlib.collections.PathCollection at 0x181c193f98>"
      ]
     },
     "execution_count": 73,
     "metadata": {},
     "output_type": "execute_result"
    },
    {
     "data": {
      "image/png": "[encoded data removed]",
      "text/plain": [
       "<matplotlib.figure.Figure at 0x181c199fd0>"
      ]
     },
     "metadata": {},
     "output_type": "display_data"
    }
   ],
   "source": [
    "plt.figure(figsize=(5, 5))\n",
    "b0 = plt.contour(fg.X[x1:x2, y1:y2],fg.Y[x1:x2, y1:y2],fg.B[x1:x2, y1:y2], levels=[0])  # coastline\n",
    "h0 = plt.contour(fg.X[x1:x2, y1:y2],fg.Y[x1:x2, y1:y2],zeta[x1:x2, y1:y2], levels=[0.001], color = 'r')\n",
    "plt.scatter(xy_runup[:, 0], xy_runup[:, 1], c=runup, cmap=\"bwr\")\n",
    "#plt.plot(xy_coast[:, 0], xy_coast[:, 1], 'k.')"
   ]
  },
  {
   "cell_type": "code",
   "execution_count": 66,
   "metadata": {},
   "outputs": [
    {
     "data": {
      "text/plain": [
       "array([  3.04150350e+01,   3.08207226e+01,   3.03135438e+01,\n",
       "        -6.46671255e+01,   2.16416225e+01,   1.67323417e+02,\n",
       "         2.15914436e+02,   2.25756694e+02,   8.61209055e+00,\n",
       "         9.04160646e+00,   1.04986527e+01,  -6.19236631e+00,\n",
       "        -8.81697186e+00,   8.48690028e+01,   1.58128441e+02,\n",
       "         1.69148241e+02,   1.73191935e+02,   7.84451350e+00,\n",
       "         8.11295283e+00,   8.23060738e+00,  -2.62099077e+01,\n",
       "        -3.58077344e+00,   5.28468621e-01,   1.25031143e+02,\n",
       "         2.95951885e+02,   2.39031006e+02,   2.66126582e+02,\n",
       "         2.24228616e+02,   1.54855431e+02,   1.55150843e+02,\n",
       "         9.10590730e+01,   6.42717638e+00,   8.03685703e+00,\n",
       "         7.09751773e+00,   8.92085127e+00,   7.21316044e+01,\n",
       "         7.20678702e+01,   7.11791230e+01,   6.09409949e+01,\n",
       "         8.35307079e+01,   7.25660560e+01,   5.80159610e+01,\n",
       "         5.81061937e+01,   6.18681243e+01,   4.02778248e+01,\n",
       "         3.39865220e+01,   2.37439766e+01,   2.58141449e+01,\n",
       "         3.31224556e+01,   3.33776659e+01,   4.08271963e+00,\n",
       "         4.28833396e+00,   2.07902954e+00,   2.64748599e+00,\n",
       "         2.13770377e+01,   2.65298479e+01,   2.43002369e+01,\n",
       "         3.87018355e+01,   3.98047698e+01,   3.79736422e+01,\n",
       "         2.72417237e+00,   2.95163483e+00,   2.99645735e+00,\n",
       "        -8.90587865e-01,   9.73757219e+00,   2.73497059e+01,\n",
       "         4.31344441e+01,   4.22793412e+01,   4.28803524e+01,\n",
       "         1.76586142e+01,   1.76852027e+01,   1.78415098e+01,\n",
       "         1.65852468e+01,   4.03194575e+01,   6.28268209e+01,\n",
       "         1.74707910e+01,   1.70005374e+01,   1.76045682e+01,\n",
       "         1.53946373e+01,   4.34045441e+01,   6.66000447e+01,\n",
       "         6.66246766e+01,   2.53174491e+01,   2.52615542e+01,\n",
       "         2.56434395e+01,   2.45485304e+01,   6.49520326e+01,\n",
       "         2.95159557e+01,   2.95566294e+01,   2.96416385e+01,\n",
       "         2.93808715e+01,   4.00005067e+00,   3.78828347e+00,\n",
       "         3.83812959e+00,   4.26957976e+00,  -1.66613333e-01,\n",
       "        -8.80866450e-02,   1.16406342e+00,   5.58175789e+00,\n",
       "         5.64844567e+00,   5.73055998e+00,   5.24332435e+00,\n",
       "         5.29540318e+00,   1.14166009e+01,   1.15069812e+01,\n",
       "         1.15406493e+01,   1.21345862e+01,   1.97883150e+01,\n",
       "         1.97783229e+01,   1.98360486e+01,   1.07662463e+01,\n",
       "         1.09609685e+01,   1.10400368e+01,   5.51189257e+00])"
      ]
     },
     "execution_count": 66,
     "metadata": {},
     "output_type": "execute_result"
    }
   ],
   "source": [
    "runup"
   ]
  },
  {
   "cell_type": "code",
   "execution_count": null,
   "metadata": {
    "collapsed": true
   },
   "outputs": [],
   "source": []
  }
 ],
 "metadata": {
  "kernelspec": {
   "display_name": "Python 3",
   "language": "python",
   "name": "python3"
  },
  "language_info": {
   "codemirror_mode": {
    "name": "ipython",
    "version": 3
   },
   "file_extension": ".py",
   "mimetype": "text/x-python",
   "name": "python",
   "nbconvert_exporter": "python",
   "pygments_lexer": "ipython3",
   "version": "3.6.4"
  }
 },
 "nbformat": 4,
 "nbformat_minor": 2
}
