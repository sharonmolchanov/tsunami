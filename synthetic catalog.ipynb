{
 "cells": [
  {
   "cell_type": "code",
   "execution_count": 1,
   "metadata": {
    "collapsed": true
   },
   "outputs": [],
   "source": [
    "# Populating the interactive namespace from pandas, numpy, matplotlib and scipy\n",
    "import pandas as pd\n",
    "import numpy as np\n",
    "%matplotlib inline\n",
    "import matplotlib.pyplot as plt"
   ]
  },
  {
   "cell_type": "markdown",
   "metadata": {},
   "source": [
    "# Magnitude sampling"
   ]
  },
  {
   "cell_type": "code",
   "execution_count": 2,
   "metadata": {
    "collapsed": true
   },
   "outputs": [],
   "source": [
    "# defining the parameters for Gutenberg-Richter, beta:\n",
    "beta = 2.13"
   ]
  },
  {
   "cell_type": "code",
   "execution_count": 11,
   "metadata": {
    "collapsed": true
   },
   "outputs": [],
   "source": [
    "# defining the parameters for Gutenberg-Richter, annual occurrence rate of earthquakes wit M>=4.3:\n",
    "fn43 = 22.189"
   ]
  },
  {
   "cell_type": "code",
   "execution_count": 23,
   "metadata": {},
   "outputs": [],
   "source": [
    "# annual occurrence rate of earthquakes with M>=6.5, given by truncated Gutenberg-Richter:\n",
    "M65 = fn43*(1 - (1 - np.exp(-beta*(6.5 - 4.3)))/\n",
    "                (1 - np.exp(-beta*(8.7 - 4.3))))"
   ]
  },
  {
   "cell_type": "code",
   "execution_count": 24,
   "metadata": {},
   "outputs": [
    {
     "data": {
      "text/plain": [
       "0.20278995113008463"
      ]
     },
     "execution_count": 24,
     "metadata": {},
     "output_type": "execute_result"
    }
   ],
   "source": [
    "M65"
   ]
  },
  {
   "cell_type": "code",
   "execution_count": 25,
   "metadata": {},
   "outputs": [
    {
     "data": {
      "text/plain": [
       "20278.995113008463"
      ]
     },
     "execution_count": 25,
     "metadata": {},
     "output_type": "execute_result"
    }
   ],
   "source": [
    "# number of earthquakes with M>=6.5 in 100000 years, given by truncated Gutenberg-Richter:\n",
    "M65*100000"
   ]
  },
  {
   "cell_type": "code",
   "execution_count": 15,
   "metadata": {
    "collapsed": true
   },
   "outputs": [],
   "source": [
    "# annual occurrence rate of earthquakes with M>=7, given by truncated Gutenberg-Richter:\n",
    "M7 = fn43*(1 - (1 - np.exp(-beta*(7 - 4.3)))/\n",
    "                (1 - np.exp(-beta*(8.6 - 4.3))))"
   ]
  },
  {
   "cell_type": "code",
   "execution_count": 16,
   "metadata": {},
   "outputs": [
    {
     "data": {
      "text/plain": [
       "0.068223523260349805"
      ]
     },
     "execution_count": 16,
     "metadata": {},
     "output_type": "execute_result"
    }
   ],
   "source": [
    "M7"
   ]
  },
  {
   "cell_type": "code",
   "execution_count": 17,
   "metadata": {},
   "outputs": [
    {
     "data": {
      "text/plain": [
       "6822.3523260349803"
      ]
     },
     "execution_count": 17,
     "metadata": {},
     "output_type": "execute_result"
    }
   ],
   "source": [
    "# number of earthquakes with M>=7 in 100000 years, given by truncated Gutenberg-Richter:\n",
    "M7*100000"
   ]
  },
  {
   "cell_type": "code",
   "execution_count": 18,
   "metadata": {
    "collapsed": true
   },
   "outputs": [],
   "source": [
    "# defining minimum and maximum earthquake magnitudes \n",
    "Mmin = 7\n",
    "Mmax = 8.6"
   ]
  },
  {
   "cell_type": "code",
   "execution_count": 29,
   "metadata": {},
   "outputs": [
    {
     "data": {
      "text/plain": [
       "17"
      ]
     },
     "execution_count": 29,
     "metadata": {},
     "output_type": "execute_result"
    }
   ],
   "source": [
    "int(round((Mmax - Mmin)/0.1 + 1))"
   ]
  },
  {
   "cell_type": "code",
   "execution_count": 72,
   "metadata": {},
   "outputs": [],
   "source": [
    "# creating vector of magnitudes with 0.1 step\n",
    "m = np.around(np.array([Mmin + 0.1*i for i in range(0, int(round((Mmax - Mmin)/0.1 + 1)))]),1)"
   ]
  },
  {
   "cell_type": "code",
   "execution_count": 73,
   "metadata": {},
   "outputs": [
    {
     "data": {
      "text/plain": [
       "array([ 7. ,  7.1,  7.2,  7.3,  7.4,  7.5,  7.6,  7.7,  7.8,  7.9,  8. ,\n",
       "        8.1,  8.2,  8.3,  8.4,  8.5,  8.6])"
      ]
     },
     "execution_count": 73,
     "metadata": {},
     "output_type": "execute_result"
    }
   ],
   "source": [
    "m"
   ]
  },
  {
   "cell_type": "code",
   "execution_count": 164,
   "metadata": {
    "collapsed": true
   },
   "outputs": [],
   "source": [
    "# calculating cumulative annual occurrence rate of earthquakes of all the magnitudes, given by truncated Gutenberg-Richter:\n",
    "CNM = fn43*(1 - (1 - np.exp(-beta*(m - 4.3)))/\n",
    "                (1 - np.exp(-beta*(8.7 - 4.3))))"
   ]
  },
  {
   "cell_type": "code",
   "execution_count": 165,
   "metadata": {},
   "outputs": [
    {
     "data": {
      "text/plain": [
       "array([   14.56233812,    18.13758047,    22.627083  ,    28.28522401,\n",
       "          35.44905093,    44.57220097,    56.27708361,    71.43809278,\n",
       "          91.31998024,   117.81967374,   153.91503174,   204.56204974,\n",
       "         278.66849725,   394.02796703,   592.12231159,   997.33237334,\n",
       "        2231.4161443 ])"
      ]
     },
     "execution_count": 165,
     "metadata": {},
     "output_type": "execute_result"
    }
   ],
   "source": [
    "# cumulative recurrence time\n",
    "1/CNM"
   ]
  },
  {
   "cell_type": "code",
   "execution_count": 166,
   "metadata": {},
   "outputs": [
    {
     "data": {
      "text/plain": [
       "array([ 6867.02912679,  5513.41454718,  4419.48261724,  3535.41481437,\n",
       "        2820.94999375,  2243.55086415,  1776.92221394,  1399.81340647,\n",
       "        1095.05060932,   848.7546844 ,   649.70912111,   488.84922755,\n",
       "         358.84931734,   253.78909206,   168.88402623,   100.26747619,\n",
       "          44.81459017])"
      ]
     },
     "execution_count": 166,
     "metadata": {},
     "output_type": "execute_result"
    }
   ],
   "source": [
    "# cumulative number of earthquakes in 100000 years\n",
    "CNM*100000"
   ]
  },
  {
   "cell_type": "code",
   "execution_count": 169,
   "metadata": {},
   "outputs": [],
   "source": [
    "# calculating number of earthquakes of each magnitude in 100000 years\n",
    "NM = np.zeros(len(CNM))\n",
    "CNM = CNM*100000\n",
    "NM[len(CNM) - 1] = CNM[len(CNM) - 1]\n",
    "for i in range(len(CNM)-1):\n",
    "               NM[i] = CNM[i] - CNM[i+1]"
   ]
  },
  {
   "cell_type": "code",
   "execution_count": 170,
   "metadata": {},
   "outputs": [
    {
     "data": {
      "text/plain": [
       "array([ 1353.61457961,  1093.93192994,   884.06780288,   714.46482061,\n",
       "         577.3991296 ,   466.62865021,   377.10880747,   304.76279715,\n",
       "         246.29592492,   199.04556329,   160.85989356,   129.99991021,\n",
       "         105.06022528,    84.90506583,    68.61655003,    55.45288603,\n",
       "          44.81459017])"
      ]
     },
     "execution_count": 170,
     "metadata": {},
     "output_type": "execute_result"
    }
   ],
   "source": [
    "NM # number of earthquakes of each magnitude in 100000 years"
   ]
  },
  {
   "cell_type": "code",
   "execution_count": 92,
   "metadata": {},
   "outputs": [
    {
     "data": {
      "text/plain": [
       "array([1348, 1124,  868,  675,  607,  470,  364,  300,  245,  218,  172,\n",
       "        114,  114,   87,   66,   56,   39])"
      ]
     },
     "execution_count": 92,
     "metadata": {},
     "output_type": "execute_result"
    }
   ],
   "source": [
    "counts"
   ]
  },
  {
   "cell_type": "code",
   "execution_count": 58,
   "metadata": {},
   "outputs": [
    {
     "data": {
      "text/plain": [
       "1.0"
      ]
     },
     "execution_count": 58,
     "metadata": {},
     "output_type": "execute_result"
    }
   ],
   "source": [
    "np.sum(NM/np.sum(NM))"
   ]
  },
  {
   "cell_type": "code",
   "execution_count": 171,
   "metadata": {
    "collapsed": true
   },
   "outputs": [],
   "source": [
    "# probability of occurrence of earthquake of each magnitude\n",
    "PNM = NM/np.sum(NM)"
   ]
  },
  {
   "cell_type": "code",
   "execution_count": 172,
   "metadata": {},
   "outputs": [
    {
     "data": {
      "text/plain": [
       "array([ 0.19711793,  0.15930207,  0.12874094,  0.10404278,  0.08408281,\n",
       "        0.06795204,  0.05491586,  0.04438059,  0.03586645,  0.02898569,\n",
       "        0.02342496,  0.01893103,  0.01529923,  0.01236416,  0.00999217,\n",
       "        0.00807524,  0.00652605])"
      ]
     },
     "execution_count": 172,
     "metadata": {},
     "output_type": "execute_result"
    }
   ],
   "source": [
    "PNM"
   ]
  },
  {
   "cell_type": "code",
   "execution_count": 56,
   "metadata": {},
   "outputs": [
    {
     "data": {
      "text/plain": [
       "array([ 0.06867029,  0.05513415,  0.04419483,  0.03535415,  0.0282095 ,\n",
       "        0.02243551,  0.01776922,  0.01399813,  0.01095051,  0.00848755,\n",
       "        0.00649709,  0.00488849,  0.00358849,  0.00253789,  0.00168884,\n",
       "        0.00100267,  0.00044815])"
      ]
     },
     "execution_count": 56,
     "metadata": {},
     "output_type": "execute_result"
    }
   ],
   "source": [
    "CNM"
   ]
  },
  {
   "cell_type": "code",
   "execution_count": 125,
   "metadata": {},
   "outputs": [],
   "source": [
    "# calculating vector of magnitudes by random sampling with replacement (Monte Carlo) using\n",
    "# the probabilities calculated by Gutenberg Richter, 1 mln years\n",
    "magnitudes = np.random.choice(m, 68670, replace=True, p = PNM)"
   ]
  },
  {
   "cell_type": "code",
   "execution_count": 90,
   "metadata": {},
   "outputs": [
    {
     "data": {
      "text/plain": [
       "array([ 7.2,  7.7,  7.2, ...,  7.2,  7.4,  7.5])"
      ]
     },
     "execution_count": 90,
     "metadata": {},
     "output_type": "execute_result"
    }
   ],
   "source": [
    "magnitudes"
   ]
  },
  {
   "cell_type": "code",
   "execution_count": 126,
   "metadata": {},
   "outputs": [],
   "source": [
    "\n",
    "unique, counts = np.unique(magnitudes, return_counts=True)"
   ]
  },
  {
   "cell_type": "code",
   "execution_count": 81,
   "metadata": {},
   "outputs": [
    {
     "data": {
      "text/plain": [
       "array([1353, 1084,  885,  725,  584,  463,  358,  327,  250,  198,  151,\n",
       "        129,  106,   66,   79,   64,   45])"
      ]
     },
     "execution_count": 81,
     "metadata": {},
     "output_type": "execute_result"
    }
   ],
   "source": [
    "counts"
   ]
  },
  {
   "cell_type": "code",
   "execution_count": 98,
   "metadata": {},
   "outputs": [
    {
     "data": {
      "text/plain": [
       "array([ 0.99216255,  0.99129075,  0.99540299,  1.00439241,  0.97991557,\n",
       "        1.02180186,  1.03471902,  1.0283451 ,  0.95738896,  1.02188092,\n",
       "        1.02698502,  0.99846646,  1.0508303 ,  0.97756655,  1.00267781,\n",
       "        0.948557  ,  1.04430719])"
      ]
     },
     "execution_count": 98,
     "metadata": {},
     "output_type": "execute_result"
    }
   ],
   "source": [
    "counts/34335/PNM"
   ]
  },
  {
   "cell_type": "code",
   "execution_count": 95,
   "metadata": {},
   "outputs": [
    {
     "data": {
      "text/plain": [
       "34335"
      ]
     },
     "execution_count": 95,
     "metadata": {},
     "output_type": "execute_result"
    }
   ],
   "source": [
    "6867*5"
   ]
  },
  {
   "cell_type": "code",
   "execution_count": 108,
   "metadata": {},
   "outputs": [
    {
     "data": {
      "text/plain": [
       "array([ 1.00102774,  0.98452613,  1.06892707,  1.00215296,  1.01490019,\n",
       "        1.03508871,  0.94933216,  0.94500124,  0.958201  ,  0.94451137,\n",
       "        1.05060816,  1.01538962,  0.91376548,  1.04823401,  0.90357593,\n",
       "        0.93773696,  0.78099896])"
      ]
     },
     "execution_count": 108,
     "metadata": {},
     "output_type": "execute_result"
    }
   ],
   "source": [
    "# probability of occurrence of earthquake of each magnitude calculated using Monte Carlo relative to \n",
    "# probability calculated from Gutenberg-Richter, 100000 years\n",
    "counts/6867/PNM"
   ]
  },
  {
   "cell_type": "code",
   "execution_count": 113,
   "metadata": {},
   "outputs": [
    {
     "data": {
      "text/plain": [
       "array([ 0.99120216,  1.0049114 ,  0.99540299,  1.00873134,  1.00468191,\n",
       "        0.99865702,  0.9692204 ,  0.99947006,  1.0142314 ,  1.0424793 ,\n",
       "        1.04003991,  0.96385091,  1.01370858,  1.04234505,  0.9283514 ,\n",
       "        1.01888727,  0.98182727])"
      ]
     },
     "execution_count": 113,
     "metadata": {},
     "output_type": "execute_result"
    }
   ],
   "source": [
    "# probability of occurrence of earthquake of each magnitude calculated using Monte Carlo relative to \n",
    "# probability calculated from Gutenberg-Richter, 1000000 years\n",
    "counts/68670/PNM"
   ]
  },
  {
   "cell_type": "code",
   "execution_count": 127,
   "metadata": {},
   "outputs": [
    {
     "data": {
      "text/plain": [
       "array([ 0.38, -1.29, -0.82,  0.32,  0.83, -1.43,  1.2 ,  0.41,  2.03,\n",
       "        1.98,  0.47, -1.39, -1.66,  3.89,  0.61, -0.45,  0.92])"
      ]
     },
     "execution_count": 127,
     "metadata": {},
     "output_type": "execute_result"
    }
   ],
   "source": [
    "# difference between the two probabilites (in percents), 1 mln years\n",
    "np.around((1 - counts/68670/PNM)*100, 2)"
   ]
  },
  {
   "cell_type": "code",
   "execution_count": 128,
   "metadata": {},
   "outputs": [
    {
     "data": {
      "text/plain": [
       "1.1811764705882355"
      ]
     },
     "execution_count": 128,
     "metadata": {},
     "output_type": "execute_result"
    }
   ],
   "source": [
    "# mean difference between the two probabilites (in percents), 1 mln years\n",
    "np.mean(abs(np.around((1 - counts/68670/PNM)*100, 2)))"
   ]
  },
  {
   "cell_type": "code",
   "execution_count": 119,
   "metadata": {},
   "outputs": [
    {
     "data": {
      "text/plain": [
       "array([ -4.54,   0.72,   1.25,   0.2 ,  -1.14,   4.21,   0.82,   7.47,\n",
       "         8.24,  -7.01,  -8.79,  -7.69,   8.62,  12.84,   9.64,  -6.4 ,\n",
       "        -7.11])"
      ]
     },
     "execution_count": 119,
     "metadata": {},
     "output_type": "execute_result"
    }
   ],
   "source": [
    "# difference between the two probabilites (in percents), 100000 years\n",
    "np.around((1 - counts/6867/PNM)*100, 2)"
   ]
  },
  {
   "cell_type": "code",
   "execution_count": 120,
   "metadata": {},
   "outputs": [
    {
     "data": {
      "text/plain": [
       "5.6876470588235293"
      ]
     },
     "execution_count": 120,
     "metadata": {},
     "output_type": "execute_result"
    }
   ],
   "source": [
    "# mean difference between the two probabilites (in percents), 100000 years\n",
    "np.mean(abs(np.around((1 - counts/6867/PNM)*100, 2)))"
   ]
  },
  {
   "cell_type": "code",
   "execution_count": 234,
   "metadata": {},
   "outputs": [],
   "source": [
    "# calculating mean difference and std between the two probabilites (in percents), 100000 years\n",
    "# 100 Monte Carlo runs\n",
    "meanerror5 = np.zeros(100)\n",
    "std5 = np.zeros(100)\n",
    "maxerror5 = np.zeros(100)\n",
    "for i in range(len(meanerror5)):\n",
    "    magnitudes = np.random.choice(m, 6867, replace=True, p = PNM)\n",
    "    unique, counts = np.unique(magnitudes, return_counts=True)\n",
    "    meanerror5[i] = np.mean(abs(np.around((1 - counts/6867/PNM)*100, 2)))\n",
    "    maxerror5[i] = np.max(abs(np.around((1 - counts/6867/PNM)*100, 2)))\n",
    "    std5[i] = np.std(abs(np.around((1 - counts/6867/PNM)*100, 2)))"
   ]
  },
  {
   "cell_type": "code",
   "execution_count": 235,
   "metadata": {},
   "outputs": [
    {
     "data": {
      "text/plain": [
       "5.7512352941176479"
      ]
     },
     "execution_count": 235,
     "metadata": {},
     "output_type": "execute_result"
    }
   ],
   "source": [
    "# mean difference between the two probabilites (in percents), 100000 years\n",
    "# 100 Monte Carlo runs\n",
    "np.mean(meanerror5)"
   ]
  },
  {
   "cell_type": "code",
   "execution_count": 236,
   "metadata": {},
   "outputs": [
    {
     "data": {
      "text/plain": [
       "1.2267917889461135"
      ]
     },
     "execution_count": 236,
     "metadata": {},
     "output_type": "execute_result"
    }
   ],
   "source": [
    "np.std(meanerror5)"
   ]
  },
  {
   "cell_type": "code",
   "execution_count": 237,
   "metadata": {},
   "outputs": [
    {
     "data": {
      "text/plain": [
       "5.5307371883911358"
      ]
     },
     "execution_count": 237,
     "metadata": {},
     "output_type": "execute_result"
    }
   ],
   "source": [
    "# mean std of the differences between the two probabilites (in percents), 100000 years\n",
    "# 100 Monte Carlo runs\n",
    "np.mean(std5)"
   ]
  },
  {
   "cell_type": "code",
   "execution_count": 238,
   "metadata": {},
   "outputs": [
    {
     "data": {
      "text/plain": [
       "1.622775927243423"
      ]
     },
     "execution_count": 238,
     "metadata": {},
     "output_type": "execute_result"
    }
   ],
   "source": [
    "np.std(std5)"
   ]
  },
  {
   "cell_type": "code",
   "execution_count": 240,
   "metadata": {},
   "outputs": [
    {
     "data": {
      "text/plain": [
       "49.509999999999998"
      ]
     },
     "execution_count": 240,
     "metadata": {},
     "output_type": "execute_result"
    }
   ],
   "source": [
    "np.max(maxerror5)"
   ]
  },
  {
   "cell_type": "code",
   "execution_count": 207,
   "metadata": {},
   "outputs": [
    {
     "data": {
      "text/plain": [
       "array([ 3.94569144,  4.26988375,  6.1008693 ,  7.94746196,  6.08458589,\n",
       "        4.42936263,  4.03479417,  2.61274134,  4.7212823 ,  6.88571502,\n",
       "        4.49607872,  7.29212368,  7.22717818,  3.69853857,  3.85701814,\n",
       "        4.94854528,  3.16406565,  7.22361041,  4.88061578,  5.31238014,\n",
       "        2.89970193,  7.27609144,  3.95283587,  6.19293978,  4.38185627,\n",
       "        4.58797526,  5.62783302,  4.21893737,  4.38833749,  5.58506647,\n",
       "        6.9914448 ,  4.9269952 ,  6.55941074,  6.85219052,  5.0119777 ,\n",
       "        6.45666684,  3.52755549,  3.86841849,  5.82917302,  6.4497857 ,\n",
       "        4.31265323,  5.63236022,  3.88751555,  4.06824218,  8.15209239,\n",
       "        6.57363408,  6.50062451,  7.44338233,  7.36938463,  4.57814879,\n",
       "        4.816919  ,  4.40678119,  6.02615671,  5.39252834,  2.43446448,\n",
       "        6.58398792,  5.18260152,  4.51511564,  5.94044072,  3.52990585,\n",
       "        7.00739283,  8.64167724,  3.83313996,  4.81601193,  4.01318545,\n",
       "        5.92414057,  8.12313608,  3.25527541,  6.09839539,  3.61408663,\n",
       "        3.11048701,  7.67546245,  3.94374675,  6.04705167,  6.28848621,\n",
       "        4.06825596,  6.61111966,  8.45414617,  5.50718901,  4.6985023 ,\n",
       "        6.61978679,  5.47991899,  4.84331502,  5.88019101,  3.37068484,\n",
       "        4.00022067,  6.78324534,  5.08850016,  6.78306521,  4.10541469,\n",
       "        4.42498724,  3.55534375,  5.00150503,  3.75838863,  6.87189583,\n",
       "        4.63420643,  5.6232247 ,  4.39922571,  5.05208169,  6.91005195])"
      ]
     },
     "execution_count": 207,
     "metadata": {},
     "output_type": "execute_result"
    }
   ],
   "source": [
    "std5"
   ]
  },
  {
   "cell_type": "code",
   "execution_count": 208,
   "metadata": {},
   "outputs": [
    {
     "data": {
      "text/plain": [
       "array([ 4.97882353,  4.02470588,  5.71764706,  7.45117647,  6.18294118,\n",
       "        5.17764706,  5.62352941,  3.23058824,  5.78588235,  6.54411765,\n",
       "        5.66235294,  5.49705882,  6.43117647,  5.32647059,  5.54588235,\n",
       "        5.57235294,  3.93058824,  6.82764706,  4.35117647,  7.16235294,\n",
       "        3.63588235,  7.09588235,  4.83058824,  6.34294118,  3.64941176,\n",
       "        5.76647059,  6.94882353,  5.18705882,  5.44      ,  5.99823529,\n",
       "        6.82764706,  6.27352941,  5.99882353,  5.86705882,  5.10823529,\n",
       "        7.45058824,  4.80588235,  4.68176471,  6.77352941,  5.98764706,\n",
       "        6.19470588,  4.76647059,  5.35411765,  3.69235294,  6.00882353,\n",
       "        6.76764706,  5.49529412,  4.65647059,  7.26764706,  5.33647059,\n",
       "        5.45176471,  5.56823529,  5.2       ,  7.06705882,  2.88941176,\n",
       "        6.09176471,  5.46058824,  4.48117647,  5.94588235,  4.41      ,\n",
       "        7.18529412,  7.48294118,  3.80705882,  5.76235294,  5.46882353,\n",
       "        5.59764706,  6.41882353,  3.82764706,  5.14823529,  5.20117647,\n",
       "        4.15      ,  6.51235294,  4.55294118,  5.61882353,  6.74      ,\n",
       "        7.22411765,  6.34705882,  6.27352941,  4.95529412,  4.14764706,\n",
       "        5.86588235,  5.31235294,  6.44235294,  5.61647059,  4.53117647,\n",
       "        5.20588235,  6.37058824,  6.35117647,  6.97294118,  4.84764706,\n",
       "        5.59235294,  5.36117647,  5.36058824,  5.22176471,  7.91647059,\n",
       "        4.84117647,  5.84705882,  3.86882353,  5.81      ,  6.13764706])"
      ]
     },
     "execution_count": 208,
     "metadata": {},
     "output_type": "execute_result"
    }
   ],
   "source": [
    "meanerror5"
   ]
  },
  {
   "cell_type": "code",
   "execution_count": 219,
   "metadata": {},
   "outputs": [],
   "source": [
    "# calculating mean difference and std between the two probabilites (in percents), 1 mln years\n",
    "# 100 Monte Carlo runs\n",
    "meanerror6 = np.zeros(100)\n",
    "std6 = np.zeros(100)\n",
    "maxerror6 = np.zeros(100)\n",
    "for i in range(len(meanerror5)):\n",
    "    magnitudes = np.random.choice(m, 68670, replace=True, p = PNM)\n",
    "    unique, counts = np.unique(magnitudes, return_counts=True)\n",
    "    meanerror6[i] = np.mean(abs(np.around((1 - counts/68670/PNM)*100, 2)))\n",
    "    maxerror6[i] = np.max(abs(np.around((1 - counts/68670/PNM)*100, 2)))\n",
    "    std6[i] = np.std(abs(np.around((1 - counts/68670/PNM)*100, 2)))"
   ]
  },
  {
   "cell_type": "code",
   "execution_count": 220,
   "metadata": {},
   "outputs": [
    {
     "data": {
      "text/plain": [
       "1.8309235294117645"
      ]
     },
     "execution_count": 220,
     "metadata": {},
     "output_type": "execute_result"
    }
   ],
   "source": [
    "# mean difference between the two probabilites (in percents), 1 mln years\n",
    "# 100 Monte Carlo runs\n",
    "np.mean(meanerror6)"
   ]
  },
  {
   "cell_type": "code",
   "execution_count": 221,
   "metadata": {},
   "outputs": [
    {
     "data": {
      "text/plain": [
       "1.701805719177409"
      ]
     },
     "execution_count": 221,
     "metadata": {},
     "output_type": "execute_result"
    }
   ],
   "source": [
    "# mean std of the differences between the two probabilites (in percents), 1 mln years\n",
    "# 100 Monte Carlo runs\n",
    "np.mean(std6)"
   ]
  },
  {
   "cell_type": "code",
   "execution_count": 222,
   "metadata": {},
   "outputs": [
    {
     "data": {
      "text/plain": [
       "0.39064925333980627"
      ]
     },
     "execution_count": 222,
     "metadata": {},
     "output_type": "execute_result"
    }
   ],
   "source": [
    "np.std(meanerror6)"
   ]
  },
  {
   "cell_type": "code",
   "execution_count": 223,
   "metadata": {},
   "outputs": [
    {
     "data": {
      "text/plain": [
       "0.4675239054139802"
      ]
     },
     "execution_count": 223,
     "metadata": {},
     "output_type": "execute_result"
    }
   ],
   "source": [
    "np.std(std6)"
   ]
  },
  {
   "cell_type": "code",
   "execution_count": 226,
   "metadata": {},
   "outputs": [
    {
     "data": {
      "text/plain": [
       "11.57"
      ]
     },
     "execution_count": 226,
     "metadata": {},
     "output_type": "execute_result"
    }
   ],
   "source": [
    "np.max(maxerror6)"
   ]
  },
  {
   "cell_type": "code",
   "execution_count": 299,
   "metadata": {
    "collapsed": true
   },
   "outputs": [],
   "source": [
    "def fault_size(a,b):\n",
    "    par = np.around(10**(a + b*m), 0)\n",
    "    par = [int(i) for i in par]\n",
    "    return par"
   ]
  },
  {
   "cell_type": "code",
   "execution_count": 302,
   "metadata": {
    "collapsed": true
   },
   "outputs": [],
   "source": [
    "Lrf = fault_size(-2.693,0.614)\n",
    "Lsi = fault_size(-2.412,0.583)\n",
    "Lnf = fault_size(-1.722,0.485)\n",
    "Lss = fault_size(-2.943,0.681)\n",
    "LdsP = fault_size(-2.19,0.55)\n",
    "LB = fault_size(-2.37,0.57)\n",
    "LSor = fault_size(-2.44,0.59)\n",
    "LSorSS = fault_size(-2.57,0.62)\n",
    "LSorR = fault_size(-2.42,0.58)\n",
    "LSorN = fault_size(-1.88,0.5)"
   ]
  },
  {
   "cell_type": "code",
   "execution_count": 303,
   "metadata": {},
   "outputs": [],
   "source": [
    "Length = pd.DataFrame(np.column_stack([Lrf, Lsi, Lnf, Lss, LdsP, LB, LSor, LSorSS, LSorR, LSorN]), index = m, \n",
    "                     columns = ['RF Thin', 'SI Thin', 'NF Thin', 'SS Thin', 'DS Pap', 'Blaser', 'All Wells', \n",
    "                                'SS Wells', 'RF Wells', 'NF Wells'])"
   ]
  },
  {
   "cell_type": "code",
   "execution_count": 304,
   "metadata": {},
   "outputs": [
    {
     "data": {
      "text/html": [
       "<div>\n",
       "<style>\n",
       "    .dataframe thead tr:only-child th {\n",
       "        text-align: right;\n",
       "    }\n",
       "\n",
       "    .dataframe thead th {\n",
       "        text-align: left;\n",
       "    }\n",
       "\n",
       "    .dataframe tbody tr th {\n",
       "        vertical-align: top;\n",
       "    }\n",
       "</style>\n",
       "<table border=\"1\" class=\"dataframe\">\n",
       "  <thead>\n",
       "    <tr style=\"text-align: right;\">\n",
       "      <th></th>\n",
       "      <th>RF Thin</th>\n",
       "      <th>SI Thin</th>\n",
       "      <th>NF Thin</th>\n",
       "      <th>SS Thin</th>\n",
       "      <th>DS Pap</th>\n",
       "      <th>Blaser</th>\n",
       "      <th>All Wells</th>\n",
       "      <th>SS Wells</th>\n",
       "      <th>RF Wells</th>\n",
       "      <th>NF Wells</th>\n",
       "    </tr>\n",
       "  </thead>\n",
       "  <tbody>\n",
       "    <tr>\n",
       "      <th>7.0</th>\n",
       "      <td>40</td>\n",
       "      <td>47</td>\n",
       "      <td>47</td>\n",
       "      <td>67</td>\n",
       "      <td>46</td>\n",
       "      <td>42</td>\n",
       "      <td>49</td>\n",
       "      <td>59</td>\n",
       "      <td>44</td>\n",
       "      <td>42</td>\n",
       "    </tr>\n",
       "    <tr>\n",
       "      <th>7.1</th>\n",
       "      <td>46</td>\n",
       "      <td>53</td>\n",
       "      <td>53</td>\n",
       "      <td>78</td>\n",
       "      <td>52</td>\n",
       "      <td>48</td>\n",
       "      <td>56</td>\n",
       "      <td>68</td>\n",
       "      <td>50</td>\n",
       "      <td>47</td>\n",
       "    </tr>\n",
       "    <tr>\n",
       "      <th>7.2</th>\n",
       "      <td>53</td>\n",
       "      <td>61</td>\n",
       "      <td>59</td>\n",
       "      <td>91</td>\n",
       "      <td>59</td>\n",
       "      <td>54</td>\n",
       "      <td>64</td>\n",
       "      <td>78</td>\n",
       "      <td>57</td>\n",
       "      <td>52</td>\n",
       "    </tr>\n",
       "    <tr>\n",
       "      <th>7.3</th>\n",
       "      <td>62</td>\n",
       "      <td>70</td>\n",
       "      <td>66</td>\n",
       "      <td>107</td>\n",
       "      <td>67</td>\n",
       "      <td>62</td>\n",
       "      <td>74</td>\n",
       "      <td>90</td>\n",
       "      <td>65</td>\n",
       "      <td>59</td>\n",
       "    </tr>\n",
       "    <tr>\n",
       "      <th>7.4</th>\n",
       "      <td>71</td>\n",
       "      <td>80</td>\n",
       "      <td>74</td>\n",
       "      <td>125</td>\n",
       "      <td>76</td>\n",
       "      <td>70</td>\n",
       "      <td>84</td>\n",
       "      <td>104</td>\n",
       "      <td>74</td>\n",
       "      <td>66</td>\n",
       "    </tr>\n",
       "    <tr>\n",
       "      <th>7.5</th>\n",
       "      <td>82</td>\n",
       "      <td>91</td>\n",
       "      <td>82</td>\n",
       "      <td>146</td>\n",
       "      <td>86</td>\n",
       "      <td>80</td>\n",
       "      <td>97</td>\n",
       "      <td>120</td>\n",
       "      <td>85</td>\n",
       "      <td>74</td>\n",
       "    </tr>\n",
       "    <tr>\n",
       "      <th>7.6</th>\n",
       "      <td>94</td>\n",
       "      <td>104</td>\n",
       "      <td>92</td>\n",
       "      <td>171</td>\n",
       "      <td>98</td>\n",
       "      <td>92</td>\n",
       "      <td>111</td>\n",
       "      <td>139</td>\n",
       "      <td>97</td>\n",
       "      <td>83</td>\n",
       "    </tr>\n",
       "    <tr>\n",
       "      <th>7.7</th>\n",
       "      <td>108</td>\n",
       "      <td>119</td>\n",
       "      <td>103</td>\n",
       "      <td>200</td>\n",
       "      <td>111</td>\n",
       "      <td>104</td>\n",
       "      <td>127</td>\n",
       "      <td>160</td>\n",
       "      <td>111</td>\n",
       "      <td>93</td>\n",
       "    </tr>\n",
       "    <tr>\n",
       "      <th>7.8</th>\n",
       "      <td>125</td>\n",
       "      <td>137</td>\n",
       "      <td>115</td>\n",
       "      <td>234</td>\n",
       "      <td>126</td>\n",
       "      <td>119</td>\n",
       "      <td>145</td>\n",
       "      <td>185</td>\n",
       "      <td>127</td>\n",
       "      <td>105</td>\n",
       "    </tr>\n",
       "    <tr>\n",
       "      <th>7.9</th>\n",
       "      <td>144</td>\n",
       "      <td>156</td>\n",
       "      <td>129</td>\n",
       "      <td>273</td>\n",
       "      <td>143</td>\n",
       "      <td>136</td>\n",
       "      <td>166</td>\n",
       "      <td>213</td>\n",
       "      <td>145</td>\n",
       "      <td>117</td>\n",
       "    </tr>\n",
       "    <tr>\n",
       "      <th>8.0</th>\n",
       "      <td>166</td>\n",
       "      <td>179</td>\n",
       "      <td>144</td>\n",
       "      <td>320</td>\n",
       "      <td>162</td>\n",
       "      <td>155</td>\n",
       "      <td>191</td>\n",
       "      <td>245</td>\n",
       "      <td>166</td>\n",
       "      <td>132</td>\n",
       "    </tr>\n",
       "    <tr>\n",
       "      <th>8.1</th>\n",
       "      <td>191</td>\n",
       "      <td>204</td>\n",
       "      <td>161</td>\n",
       "      <td>374</td>\n",
       "      <td>184</td>\n",
       "      <td>177</td>\n",
       "      <td>218</td>\n",
       "      <td>283</td>\n",
       "      <td>190</td>\n",
       "      <td>148</td>\n",
       "    </tr>\n",
       "    <tr>\n",
       "      <th>8.2</th>\n",
       "      <td>220</td>\n",
       "      <td>234</td>\n",
       "      <td>180</td>\n",
       "      <td>438</td>\n",
       "      <td>209</td>\n",
       "      <td>201</td>\n",
       "      <td>250</td>\n",
       "      <td>327</td>\n",
       "      <td>217</td>\n",
       "      <td>166</td>\n",
       "    </tr>\n",
       "    <tr>\n",
       "      <th>8.3</th>\n",
       "      <td>253</td>\n",
       "      <td>267</td>\n",
       "      <td>201</td>\n",
       "      <td>512</td>\n",
       "      <td>237</td>\n",
       "      <td>230</td>\n",
       "      <td>286</td>\n",
       "      <td>377</td>\n",
       "      <td>248</td>\n",
       "      <td>186</td>\n",
       "    </tr>\n",
       "    <tr>\n",
       "      <th>8.4</th>\n",
       "      <td>291</td>\n",
       "      <td>306</td>\n",
       "      <td>225</td>\n",
       "      <td>599</td>\n",
       "      <td>269</td>\n",
       "      <td>262</td>\n",
       "      <td>328</td>\n",
       "      <td>435</td>\n",
       "      <td>283</td>\n",
       "      <td>209</td>\n",
       "    </tr>\n",
       "    <tr>\n",
       "      <th>8.5</th>\n",
       "      <td>336</td>\n",
       "      <td>350</td>\n",
       "      <td>251</td>\n",
       "      <td>701</td>\n",
       "      <td>305</td>\n",
       "      <td>299</td>\n",
       "      <td>376</td>\n",
       "      <td>501</td>\n",
       "      <td>324</td>\n",
       "      <td>234</td>\n",
       "    </tr>\n",
       "    <tr>\n",
       "      <th>8.6</th>\n",
       "      <td>387</td>\n",
       "      <td>400</td>\n",
       "      <td>281</td>\n",
       "      <td>820</td>\n",
       "      <td>347</td>\n",
       "      <td>340</td>\n",
       "      <td>431</td>\n",
       "      <td>578</td>\n",
       "      <td>370</td>\n",
       "      <td>263</td>\n",
       "    </tr>\n",
       "  </tbody>\n",
       "</table>\n",
       "</div>"
      ],
      "text/plain": [
       "     RF Thin  SI Thin  NF Thin  SS Thin  DS Pap  Blaser  All Wells  SS Wells  \\\n",
       "7.0       40       47       47       67      46      42         49        59   \n",
       "7.1       46       53       53       78      52      48         56        68   \n",
       "7.2       53       61       59       91      59      54         64        78   \n",
       "7.3       62       70       66      107      67      62         74        90   \n",
       "7.4       71       80       74      125      76      70         84       104   \n",
       "7.5       82       91       82      146      86      80         97       120   \n",
       "7.6       94      104       92      171      98      92        111       139   \n",
       "7.7      108      119      103      200     111     104        127       160   \n",
       "7.8      125      137      115      234     126     119        145       185   \n",
       "7.9      144      156      129      273     143     136        166       213   \n",
       "8.0      166      179      144      320     162     155        191       245   \n",
       "8.1      191      204      161      374     184     177        218       283   \n",
       "8.2      220      234      180      438     209     201        250       327   \n",
       "8.3      253      267      201      512     237     230        286       377   \n",
       "8.4      291      306      225      599     269     262        328       435   \n",
       "8.5      336      350      251      701     305     299        376       501   \n",
       "8.6      387      400      281      820     347     340        431       578   \n",
       "\n",
       "     RF Wells  NF Wells  \n",
       "7.0        44        42  \n",
       "7.1        50        47  \n",
       "7.2        57        52  \n",
       "7.3        65        59  \n",
       "7.4        74        66  \n",
       "7.5        85        74  \n",
       "7.6        97        83  \n",
       "7.7       111        93  \n",
       "7.8       127       105  \n",
       "7.9       145       117  \n",
       "8.0       166       132  \n",
       "8.1       190       148  \n",
       "8.2       217       166  \n",
       "8.3       248       186  \n",
       "8.4       283       209  \n",
       "8.5       324       234  \n",
       "8.6       370       263  "
      ]
     },
     "execution_count": 304,
     "metadata": {},
     "output_type": "execute_result"
    }
   ],
   "source": [
    "Length"
   ]
  },
  {
   "cell_type": "code",
   "execution_count": 298,
   "metadata": {},
   "outputs": [
    {
     "data": {
      "text/html": [
       "<div>\n",
       "<style>\n",
       "    .dataframe thead tr:only-child th {\n",
       "        text-align: right;\n",
       "    }\n",
       "\n",
       "    .dataframe thead th {\n",
       "        text-align: left;\n",
       "    }\n",
       "\n",
       "    .dataframe tbody tr th {\n",
       "        vertical-align: top;\n",
       "    }\n",
       "</style>\n",
       "<table border=\"1\" class=\"dataframe\">\n",
       "  <thead>\n",
       "    <tr style=\"text-align: right;\">\n",
       "      <th></th>\n",
       "      <th>RF Thin</th>\n",
       "      <th>SI Thin</th>\n",
       "      <th>NF Thin</th>\n",
       "      <th>SS Thin</th>\n",
       "      <th>DS Pap</th>\n",
       "      <th>Blaser</th>\n",
       "      <th>All Wells</th>\n",
       "      <th>SS Wells</th>\n",
       "      <th>RF Wells</th>\n",
       "      <th>NF Wells</th>\n",
       "    </tr>\n",
       "  </thead>\n",
       "  <tbody>\n",
       "    <tr>\n",
       "      <th>7.0</th>\n",
       "      <td>40</td>\n",
       "      <td>47</td>\n",
       "      <td>47</td>\n",
       "      <td>67</td>\n",
       "      <td>46</td>\n",
       "      <td>42</td>\n",
       "      <td>49</td>\n",
       "      <td>59</td>\n",
       "      <td>44</td>\n",
       "      <td>42</td>\n",
       "    </tr>\n",
       "    <tr>\n",
       "      <th>7.2</th>\n",
       "      <td>53</td>\n",
       "      <td>61</td>\n",
       "      <td>59</td>\n",
       "      <td>91</td>\n",
       "      <td>59</td>\n",
       "      <td>54</td>\n",
       "      <td>64</td>\n",
       "      <td>78</td>\n",
       "      <td>57</td>\n",
       "      <td>52</td>\n",
       "    </tr>\n",
       "    <tr>\n",
       "      <th>7.4</th>\n",
       "      <td>71</td>\n",
       "      <td>80</td>\n",
       "      <td>74</td>\n",
       "      <td>125</td>\n",
       "      <td>76</td>\n",
       "      <td>70</td>\n",
       "      <td>84</td>\n",
       "      <td>104</td>\n",
       "      <td>74</td>\n",
       "      <td>66</td>\n",
       "    </tr>\n",
       "    <tr>\n",
       "      <th>7.6</th>\n",
       "      <td>94</td>\n",
       "      <td>104</td>\n",
       "      <td>92</td>\n",
       "      <td>171</td>\n",
       "      <td>98</td>\n",
       "      <td>92</td>\n",
       "      <td>111</td>\n",
       "      <td>139</td>\n",
       "      <td>97</td>\n",
       "      <td>83</td>\n",
       "    </tr>\n",
       "    <tr>\n",
       "      <th>7.8</th>\n",
       "      <td>125</td>\n",
       "      <td>137</td>\n",
       "      <td>115</td>\n",
       "      <td>234</td>\n",
       "      <td>126</td>\n",
       "      <td>119</td>\n",
       "      <td>145</td>\n",
       "      <td>185</td>\n",
       "      <td>127</td>\n",
       "      <td>105</td>\n",
       "    </tr>\n",
       "    <tr>\n",
       "      <th>8.0</th>\n",
       "      <td>166</td>\n",
       "      <td>179</td>\n",
       "      <td>144</td>\n",
       "      <td>320</td>\n",
       "      <td>162</td>\n",
       "      <td>155</td>\n",
       "      <td>191</td>\n",
       "      <td>245</td>\n",
       "      <td>166</td>\n",
       "      <td>132</td>\n",
       "    </tr>\n",
       "    <tr>\n",
       "      <th>8.2</th>\n",
       "      <td>220</td>\n",
       "      <td>234</td>\n",
       "      <td>180</td>\n",
       "      <td>438</td>\n",
       "      <td>209</td>\n",
       "      <td>201</td>\n",
       "      <td>250</td>\n",
       "      <td>327</td>\n",
       "      <td>217</td>\n",
       "      <td>166</td>\n",
       "    </tr>\n",
       "    <tr>\n",
       "      <th>8.4</th>\n",
       "      <td>291</td>\n",
       "      <td>306</td>\n",
       "      <td>225</td>\n",
       "      <td>599</td>\n",
       "      <td>269</td>\n",
       "      <td>262</td>\n",
       "      <td>328</td>\n",
       "      <td>435</td>\n",
       "      <td>283</td>\n",
       "      <td>209</td>\n",
       "    </tr>\n",
       "    <tr>\n",
       "      <th>8.6</th>\n",
       "      <td>387</td>\n",
       "      <td>400</td>\n",
       "      <td>281</td>\n",
       "      <td>820</td>\n",
       "      <td>347</td>\n",
       "      <td>340</td>\n",
       "      <td>431</td>\n",
       "      <td>578</td>\n",
       "      <td>370</td>\n",
       "      <td>263</td>\n",
       "    </tr>\n",
       "  </tbody>\n",
       "</table>\n",
       "</div>"
      ],
      "text/plain": [
       "     RF Thin  SI Thin  NF Thin  SS Thin  DS Pap  Blaser  All Wells  SS Wells  \\\n",
       "7.0       40       47       47       67      46      42         49        59   \n",
       "7.2       53       61       59       91      59      54         64        78   \n",
       "7.4       71       80       74      125      76      70         84       104   \n",
       "7.6       94      104       92      171      98      92        111       139   \n",
       "7.8      125      137      115      234     126     119        145       185   \n",
       "8.0      166      179      144      320     162     155        191       245   \n",
       "8.2      220      234      180      438     209     201        250       327   \n",
       "8.4      291      306      225      599     269     262        328       435   \n",
       "8.6      387      400      281      820     347     340        431       578   \n",
       "\n",
       "     RF Wells  NF Wells  \n",
       "7.0        44        42  \n",
       "7.2        57        52  \n",
       "7.4        74        66  \n",
       "7.6        97        83  \n",
       "7.8       127       105  \n",
       "8.0       166       132  \n",
       "8.2       217       166  \n",
       "8.4       283       209  \n",
       "8.6       370       263  "
      ]
     },
     "execution_count": 298,
     "metadata": {},
     "output_type": "execute_result"
    }
   ],
   "source": [
    "Length.iloc[::2, :]"
   ]
  },
  {
   "cell_type": "code",
   "execution_count": 305,
   "metadata": {
    "collapsed": true
   },
   "outputs": [],
   "source": [
    "Wrf = fault_size(-1.669,0.435)\n",
    "Wsi = fault_size(-0.88,0.366)\n",
    "Wnf = fault_size(-0.829,0.323)\n",
    "Wss = fault_size(-0.543,0.261)\n",
    "WdsP = fault_size(-0.63,0.31)\n",
    "WB = fault_size(-1.86,0.46)\n",
    "WSor = fault_size(-1.01,0.32)\n",
    "WSorSS = fault_size(-0.76,0.27)\n",
    "WSorR = fault_size(-1.61,0.41)\n",
    "WSorN = fault_size(-1.14,0.35)"
   ]
  },
  {
   "cell_type": "code",
   "execution_count": 306,
   "metadata": {
    "collapsed": true
   },
   "outputs": [],
   "source": [
    "Width = pd.DataFrame(np.column_stack([Wrf, Wsi, Wnf, Wss, WdsP, WB, WSor, WSorSS, WSorR, WSorN]), index = m, \n",
    "                     columns = ['RF Thin', 'SI Thin', 'NF Thin', 'SS Thin', 'DS Pap', 'Blaser', 'All Wells', \n",
    "                                'SS Wells', 'RF Wells', 'NF Wells'])"
   ]
  },
  {
   "cell_type": "code",
   "execution_count": 307,
   "metadata": {
    "scrolled": false
   },
   "outputs": [
    {
     "data": {
      "text/html": [
       "<div>\n",
       "<style>\n",
       "    .dataframe thead tr:only-child th {\n",
       "        text-align: right;\n",
       "    }\n",
       "\n",
       "    .dataframe thead th {\n",
       "        text-align: left;\n",
       "    }\n",
       "\n",
       "    .dataframe tbody tr th {\n",
       "        vertical-align: top;\n",
       "    }\n",
       "</style>\n",
       "<table border=\"1\" class=\"dataframe\">\n",
       "  <thead>\n",
       "    <tr style=\"text-align: right;\">\n",
       "      <th></th>\n",
       "      <th>RF Thin</th>\n",
       "      <th>SI Thin</th>\n",
       "      <th>NF Thin</th>\n",
       "      <th>SS Thin</th>\n",
       "      <th>DS Pap</th>\n",
       "      <th>Blaser</th>\n",
       "      <th>All Wells</th>\n",
       "      <th>SS Wells</th>\n",
       "      <th>RF Wells</th>\n",
       "      <th>NF Wells</th>\n",
       "    </tr>\n",
       "  </thead>\n",
       "  <tbody>\n",
       "    <tr>\n",
       "      <th>7.0</th>\n",
       "      <td>24</td>\n",
       "      <td>48</td>\n",
       "      <td>27</td>\n",
       "      <td>19</td>\n",
       "      <td>35</td>\n",
       "      <td>23</td>\n",
       "      <td>17</td>\n",
       "      <td>13</td>\n",
       "      <td>18</td>\n",
       "      <td>20</td>\n",
       "    </tr>\n",
       "    <tr>\n",
       "      <th>7.2</th>\n",
       "      <td>29</td>\n",
       "      <td>57</td>\n",
       "      <td>31</td>\n",
       "      <td>22</td>\n",
       "      <td>40</td>\n",
       "      <td>28</td>\n",
       "      <td>20</td>\n",
       "      <td>15</td>\n",
       "      <td>22</td>\n",
       "      <td>24</td>\n",
       "    </tr>\n",
       "    <tr>\n",
       "      <th>7.4</th>\n",
       "      <td>35</td>\n",
       "      <td>67</td>\n",
       "      <td>36</td>\n",
       "      <td>24</td>\n",
       "      <td>46</td>\n",
       "      <td>35</td>\n",
       "      <td>23</td>\n",
       "      <td>17</td>\n",
       "      <td>27</td>\n",
       "      <td>28</td>\n",
       "    </tr>\n",
       "    <tr>\n",
       "      <th>7.6</th>\n",
       "      <td>43</td>\n",
       "      <td>80</td>\n",
       "      <td>42</td>\n",
       "      <td>28</td>\n",
       "      <td>53</td>\n",
       "      <td>43</td>\n",
       "      <td>26</td>\n",
       "      <td>20</td>\n",
       "      <td>32</td>\n",
       "      <td>33</td>\n",
       "    </tr>\n",
       "    <tr>\n",
       "      <th>7.8</th>\n",
       "      <td>53</td>\n",
       "      <td>94</td>\n",
       "      <td>49</td>\n",
       "      <td>31</td>\n",
       "      <td>61</td>\n",
       "      <td>53</td>\n",
       "      <td>31</td>\n",
       "      <td>22</td>\n",
       "      <td>39</td>\n",
       "      <td>39</td>\n",
       "    </tr>\n",
       "    <tr>\n",
       "      <th>8.0</th>\n",
       "      <td>65</td>\n",
       "      <td>112</td>\n",
       "      <td>57</td>\n",
       "      <td>35</td>\n",
       "      <td>71</td>\n",
       "      <td>66</td>\n",
       "      <td>35</td>\n",
       "      <td>25</td>\n",
       "      <td>47</td>\n",
       "      <td>46</td>\n",
       "    </tr>\n",
       "    <tr>\n",
       "      <th>8.2</th>\n",
       "      <td>79</td>\n",
       "      <td>132</td>\n",
       "      <td>66</td>\n",
       "      <td>40</td>\n",
       "      <td>82</td>\n",
       "      <td>82</td>\n",
       "      <td>41</td>\n",
       "      <td>28</td>\n",
       "      <td>56</td>\n",
       "      <td>54</td>\n",
       "    </tr>\n",
       "    <tr>\n",
       "      <th>8.4</th>\n",
       "      <td>97</td>\n",
       "      <td>156</td>\n",
       "      <td>77</td>\n",
       "      <td>45</td>\n",
       "      <td>94</td>\n",
       "      <td>101</td>\n",
       "      <td>48</td>\n",
       "      <td>32</td>\n",
       "      <td>68</td>\n",
       "      <td>63</td>\n",
       "    </tr>\n",
       "    <tr>\n",
       "      <th>8.6</th>\n",
       "      <td>118</td>\n",
       "      <td>185</td>\n",
       "      <td>89</td>\n",
       "      <td>50</td>\n",
       "      <td>109</td>\n",
       "      <td>125</td>\n",
       "      <td>55</td>\n",
       "      <td>36</td>\n",
       "      <td>82</td>\n",
       "      <td>74</td>\n",
       "    </tr>\n",
       "  </tbody>\n",
       "</table>\n",
       "</div>"
      ],
      "text/plain": [
       "     RF Thin  SI Thin  NF Thin  SS Thin  DS Pap  Blaser  All Wells  SS Wells  \\\n",
       "7.0       24       48       27       19      35      23         17        13   \n",
       "7.2       29       57       31       22      40      28         20        15   \n",
       "7.4       35       67       36       24      46      35         23        17   \n",
       "7.6       43       80       42       28      53      43         26        20   \n",
       "7.8       53       94       49       31      61      53         31        22   \n",
       "8.0       65      112       57       35      71      66         35        25   \n",
       "8.2       79      132       66       40      82      82         41        28   \n",
       "8.4       97      156       77       45      94     101         48        32   \n",
       "8.6      118      185       89       50     109     125         55        36   \n",
       "\n",
       "     RF Wells  NF Wells  \n",
       "7.0        18        20  \n",
       "7.2        22        24  \n",
       "7.4        27        28  \n",
       "7.6        32        33  \n",
       "7.8        39        39  \n",
       "8.0        47        46  \n",
       "8.2        56        54  \n",
       "8.4        68        63  \n",
       "8.6        82        74  "
      ]
     },
     "execution_count": 307,
     "metadata": {},
     "output_type": "execute_result"
    }
   ],
   "source": [
    "Width.iloc[::2, :]"
   ]
  },
  {
   "cell_type": "code",
   "execution_count": 308,
   "metadata": {},
   "outputs": [
    {
     "data": {
      "text/plain": [
       "16.049999999999997"
      ]
     },
     "execution_count": 308,
     "metadata": {},
     "output_type": "execute_result"
    }
   ],
   "source": [
    "10.7*1.5"
   ]
  },
  {
   "cell_type": "code",
   "execution_count": 331,
   "metadata": {
    "collapsed": true
   },
   "outputs": [],
   "source": [
    "M0 = 10**(1.5*m + 9.05)"
   ]
  },
  {
   "cell_type": "code",
   "execution_count": 333,
   "metadata": {},
   "outputs": [
    {
     "data": {
      "text/plain": [
       "array([   1075.19208859,    1518.74919281,    2145.29025571,\n",
       "          3030.3030303 ,    4280.41680189,    6046.2494393 ,\n",
       "          8540.55433716,   12063.85365314,   17040.64621789,\n",
       "         24070.5525674 ,   34000.55922127,   48027.06643822,\n",
       "         67840.03450207,   95826.59576268,  135358.66428817,\n",
       "        191199.19529703,  270076.04185871])"
      ]
     },
     "execution_count": 333,
     "metadata": {},
     "output_type": "execute_result"
    }
   ],
   "source": [
    "M0/3.3/(10**16)"
   ]
  },
  {
   "cell_type": "code",
   "execution_count": 321,
   "metadata": {},
   "outputs": [
    {
     "data": {
      "text/plain": [
       "3.0356721645968474e+17"
      ]
     },
     "execution_count": 321,
     "metadata": {},
     "output_type": "execute_result"
    }
   ],
   "source": [
    "10**(1.5*8.8 + 16.1)/440000/140000/10.67"
   ]
  },
  {
   "cell_type": "code",
   "execution_count": 335,
   "metadata": {},
   "outputs": [
    {
     "data": {
      "text/plain": [
       "RF Thin      26.879802\n",
       "SI Thin      22.876427\n",
       "NF Thin      22.876427\n",
       "SS Thin      16.047643\n",
       "DS Pap       23.373741\n",
       "Blaser       25.599812\n",
       "All Wells    21.942696\n",
       "SS Wells     18.223595\n",
       "RF Wells     24.436184\n",
       "NF Wells     25.599812\n",
       "Name: 7.0, dtype: float64"
      ]
     },
     "execution_count": 335,
     "metadata": {},
     "output_type": "execute_result"
    }
   ],
   "source": [
    "M0[0]/3.3/(10**16)/Length.iloc[0,:]"
   ]
  },
  {
   "cell_type": "code",
   "execution_count": 324,
   "metadata": {},
   "outputs": [
    {
     "data": {
      "text/plain": [
       "13.877095974653702"
      ]
     },
     "execution_count": 324,
     "metadata": {},
     "output_type": "execute_result"
    }
   ],
   "source": [
    "10**(1.5*8.6 + 9.05)/19462/3.3/(10**16)"
   ]
  },
  {
   "cell_type": "code",
   "execution_count": 344,
   "metadata": {},
   "outputs": [
    {
     "data": {
      "text/plain": [
       "RF Thin      1.119992\n",
       "SI Thin      0.476592\n",
       "NF Thin      0.847275\n",
       "SS Thin      0.844613\n",
       "DS Pap       0.667821\n",
       "Blaser       1.113035\n",
       "All Wells    1.290747\n",
       "SS Wells     1.401815\n",
       "RF Wells     1.357566\n",
       "NF Wells     1.279991\n",
       "Name: 7.0, dtype: float64"
      ]
     },
     "execution_count": 344,
     "metadata": {},
     "output_type": "execute_result"
    }
   ],
   "source": [
    "M0[0]/3.3/(10**16)/A.iloc[0,:]"
   ]
  },
  {
   "cell_type": "code",
   "execution_count": 339,
   "metadata": {},
   "outputs": [
    {
     "data": {
      "text/plain": [
       "RF Thin       960\n",
       "SI Thin      2256\n",
       "NF Thin      1269\n",
       "SS Thin      1273\n",
       "DS Pap       1610\n",
       "Blaser        966\n",
       "All Wells     833\n",
       "SS Wells      767\n",
       "RF Wells      792\n",
       "NF Wells      840\n",
       "Name: 7.0, dtype: int64"
      ]
     },
     "execution_count": 339,
     "metadata": {},
     "output_type": "execute_result"
    }
   ],
   "source": [
    "(Width*Length).iloc[0,:]"
   ]
  },
  {
   "cell_type": "code",
   "execution_count": 342,
   "metadata": {},
   "outputs": [],
   "source": [
    "A = Width*Length"
   ]
  },
  {
   "cell_type": "code",
   "execution_count": 343,
   "metadata": {},
   "outputs": [
    {
     "data": {
      "text/html": [
       "<div>\n",
       "<style>\n",
       "    .dataframe thead tr:only-child th {\n",
       "        text-align: right;\n",
       "    }\n",
       "\n",
       "    .dataframe thead th {\n",
       "        text-align: left;\n",
       "    }\n",
       "\n",
       "    .dataframe tbody tr th {\n",
       "        vertical-align: top;\n",
       "    }\n",
       "</style>\n",
       "<table border=\"1\" class=\"dataframe\">\n",
       "  <thead>\n",
       "    <tr style=\"text-align: right;\">\n",
       "      <th></th>\n",
       "      <th>RF Thin</th>\n",
       "      <th>SI Thin</th>\n",
       "      <th>NF Thin</th>\n",
       "      <th>SS Thin</th>\n",
       "      <th>DS Pap</th>\n",
       "      <th>Blaser</th>\n",
       "      <th>All Wells</th>\n",
       "      <th>SS Wells</th>\n",
       "      <th>RF Wells</th>\n",
       "      <th>NF Wells</th>\n",
       "    </tr>\n",
       "  </thead>\n",
       "  <tbody>\n",
       "    <tr>\n",
       "      <th>7.0</th>\n",
       "      <td>960</td>\n",
       "      <td>2256</td>\n",
       "      <td>1269</td>\n",
       "      <td>1273</td>\n",
       "      <td>1610</td>\n",
       "      <td>966</td>\n",
       "      <td>833</td>\n",
       "      <td>767</td>\n",
       "      <td>792</td>\n",
       "      <td>840</td>\n",
       "    </tr>\n",
       "    <tr>\n",
       "      <th>7.1</th>\n",
       "      <td>1196</td>\n",
       "      <td>2756</td>\n",
       "      <td>1537</td>\n",
       "      <td>1560</td>\n",
       "      <td>1924</td>\n",
       "      <td>1200</td>\n",
       "      <td>1008</td>\n",
       "      <td>952</td>\n",
       "      <td>1000</td>\n",
       "      <td>1034</td>\n",
       "    </tr>\n",
       "    <tr>\n",
       "      <th>7.2</th>\n",
       "      <td>1537</td>\n",
       "      <td>3477</td>\n",
       "      <td>1829</td>\n",
       "      <td>2002</td>\n",
       "      <td>2360</td>\n",
       "      <td>1512</td>\n",
       "      <td>1280</td>\n",
       "      <td>1170</td>\n",
       "      <td>1254</td>\n",
       "      <td>1248</td>\n",
       "    </tr>\n",
       "    <tr>\n",
       "      <th>7.3</th>\n",
       "      <td>1984</td>\n",
       "      <td>4340</td>\n",
       "      <td>2244</td>\n",
       "      <td>2461</td>\n",
       "      <td>2881</td>\n",
       "      <td>1922</td>\n",
       "      <td>1554</td>\n",
       "      <td>1440</td>\n",
       "      <td>1560</td>\n",
       "      <td>1534</td>\n",
       "    </tr>\n",
       "    <tr>\n",
       "      <th>7.4</th>\n",
       "      <td>2485</td>\n",
       "      <td>5360</td>\n",
       "      <td>2664</td>\n",
       "      <td>3000</td>\n",
       "      <td>3496</td>\n",
       "      <td>2450</td>\n",
       "      <td>1932</td>\n",
       "      <td>1768</td>\n",
       "      <td>1998</td>\n",
       "      <td>1848</td>\n",
       "    </tr>\n",
       "    <tr>\n",
       "      <th>7.5</th>\n",
       "      <td>3198</td>\n",
       "      <td>6643</td>\n",
       "      <td>3198</td>\n",
       "      <td>3796</td>\n",
       "      <td>4300</td>\n",
       "      <td>3120</td>\n",
       "      <td>2425</td>\n",
       "      <td>2160</td>\n",
       "      <td>2465</td>\n",
       "      <td>2294</td>\n",
       "    </tr>\n",
       "    <tr>\n",
       "      <th>7.6</th>\n",
       "      <td>4042</td>\n",
       "      <td>8320</td>\n",
       "      <td>3864</td>\n",
       "      <td>4788</td>\n",
       "      <td>5194</td>\n",
       "      <td>3956</td>\n",
       "      <td>2886</td>\n",
       "      <td>2780</td>\n",
       "      <td>3104</td>\n",
       "      <td>2739</td>\n",
       "    </tr>\n",
       "    <tr>\n",
       "      <th>7.7</th>\n",
       "      <td>5184</td>\n",
       "      <td>10353</td>\n",
       "      <td>4738</td>\n",
       "      <td>5800</td>\n",
       "      <td>6327</td>\n",
       "      <td>4992</td>\n",
       "      <td>3556</td>\n",
       "      <td>3360</td>\n",
       "      <td>3885</td>\n",
       "      <td>3348</td>\n",
       "    </tr>\n",
       "    <tr>\n",
       "      <th>7.8</th>\n",
       "      <td>6625</td>\n",
       "      <td>12878</td>\n",
       "      <td>5635</td>\n",
       "      <td>7254</td>\n",
       "      <td>7686</td>\n",
       "      <td>6307</td>\n",
       "      <td>4495</td>\n",
       "      <td>4070</td>\n",
       "      <td>4953</td>\n",
       "      <td>4095</td>\n",
       "    </tr>\n",
       "    <tr>\n",
       "      <th>7.9</th>\n",
       "      <td>8496</td>\n",
       "      <td>16068</td>\n",
       "      <td>6837</td>\n",
       "      <td>9009</td>\n",
       "      <td>9438</td>\n",
       "      <td>8024</td>\n",
       "      <td>5478</td>\n",
       "      <td>5112</td>\n",
       "      <td>6235</td>\n",
       "      <td>4914</td>\n",
       "    </tr>\n",
       "    <tr>\n",
       "      <th>8.0</th>\n",
       "      <td>10790</td>\n",
       "      <td>20048</td>\n",
       "      <td>8208</td>\n",
       "      <td>11200</td>\n",
       "      <td>11502</td>\n",
       "      <td>10230</td>\n",
       "      <td>6685</td>\n",
       "      <td>6125</td>\n",
       "      <td>7802</td>\n",
       "      <td>6072</td>\n",
       "    </tr>\n",
       "    <tr>\n",
       "      <th>8.1</th>\n",
       "      <td>13752</td>\n",
       "      <td>24888</td>\n",
       "      <td>9821</td>\n",
       "      <td>13838</td>\n",
       "      <td>13984</td>\n",
       "      <td>12921</td>\n",
       "      <td>8284</td>\n",
       "      <td>7641</td>\n",
       "      <td>9690</td>\n",
       "      <td>7400</td>\n",
       "    </tr>\n",
       "    <tr>\n",
       "      <th>8.2</th>\n",
       "      <td>17380</td>\n",
       "      <td>30888</td>\n",
       "      <td>11880</td>\n",
       "      <td>17520</td>\n",
       "      <td>17138</td>\n",
       "      <td>16482</td>\n",
       "      <td>10250</td>\n",
       "      <td>9156</td>\n",
       "      <td>12152</td>\n",
       "      <td>8964</td>\n",
       "    </tr>\n",
       "    <tr>\n",
       "      <th>8.3</th>\n",
       "      <td>22011</td>\n",
       "      <td>38448</td>\n",
       "      <td>14271</td>\n",
       "      <td>21504</td>\n",
       "      <td>20856</td>\n",
       "      <td>20930</td>\n",
       "      <td>12584</td>\n",
       "      <td>11310</td>\n",
       "      <td>15376</td>\n",
       "      <td>10788</td>\n",
       "    </tr>\n",
       "    <tr>\n",
       "      <th>8.4</th>\n",
       "      <td>28227</td>\n",
       "      <td>47736</td>\n",
       "      <td>17325</td>\n",
       "      <td>26955</td>\n",
       "      <td>25286</td>\n",
       "      <td>26462</td>\n",
       "      <td>15744</td>\n",
       "      <td>13920</td>\n",
       "      <td>19244</td>\n",
       "      <td>13167</td>\n",
       "    </tr>\n",
       "    <tr>\n",
       "      <th>8.5</th>\n",
       "      <td>35952</td>\n",
       "      <td>59500</td>\n",
       "      <td>20833</td>\n",
       "      <td>32947</td>\n",
       "      <td>30805</td>\n",
       "      <td>33488</td>\n",
       "      <td>19176</td>\n",
       "      <td>17034</td>\n",
       "      <td>24300</td>\n",
       "      <td>15912</td>\n",
       "    </tr>\n",
       "    <tr>\n",
       "      <th>8.6</th>\n",
       "      <td>45666</td>\n",
       "      <td>74000</td>\n",
       "      <td>25009</td>\n",
       "      <td>41000</td>\n",
       "      <td>37823</td>\n",
       "      <td>42500</td>\n",
       "      <td>23705</td>\n",
       "      <td>20808</td>\n",
       "      <td>30340</td>\n",
       "      <td>19462</td>\n",
       "    </tr>\n",
       "  </tbody>\n",
       "</table>\n",
       "</div>"
      ],
      "text/plain": [
       "     RF Thin  SI Thin  NF Thin  SS Thin  DS Pap  Blaser  All Wells  SS Wells  \\\n",
       "7.0      960     2256     1269     1273    1610     966        833       767   \n",
       "7.1     1196     2756     1537     1560    1924    1200       1008       952   \n",
       "7.2     1537     3477     1829     2002    2360    1512       1280      1170   \n",
       "7.3     1984     4340     2244     2461    2881    1922       1554      1440   \n",
       "7.4     2485     5360     2664     3000    3496    2450       1932      1768   \n",
       "7.5     3198     6643     3198     3796    4300    3120       2425      2160   \n",
       "7.6     4042     8320     3864     4788    5194    3956       2886      2780   \n",
       "7.7     5184    10353     4738     5800    6327    4992       3556      3360   \n",
       "7.8     6625    12878     5635     7254    7686    6307       4495      4070   \n",
       "7.9     8496    16068     6837     9009    9438    8024       5478      5112   \n",
       "8.0    10790    20048     8208    11200   11502   10230       6685      6125   \n",
       "8.1    13752    24888     9821    13838   13984   12921       8284      7641   \n",
       "8.2    17380    30888    11880    17520   17138   16482      10250      9156   \n",
       "8.3    22011    38448    14271    21504   20856   20930      12584     11310   \n",
       "8.4    28227    47736    17325    26955   25286   26462      15744     13920   \n",
       "8.5    35952    59500    20833    32947   30805   33488      19176     17034   \n",
       "8.6    45666    74000    25009    41000   37823   42500      23705     20808   \n",
       "\n",
       "     RF Wells  NF Wells  \n",
       "7.0       792       840  \n",
       "7.1      1000      1034  \n",
       "7.2      1254      1248  \n",
       "7.3      1560      1534  \n",
       "7.4      1998      1848  \n",
       "7.5      2465      2294  \n",
       "7.6      3104      2739  \n",
       "7.7      3885      3348  \n",
       "7.8      4953      4095  \n",
       "7.9      6235      4914  \n",
       "8.0      7802      6072  \n",
       "8.1      9690      7400  \n",
       "8.2     12152      8964  \n",
       "8.3     15376     10788  \n",
       "8.4     19244     13167  \n",
       "8.5     24300     15912  \n",
       "8.6     30340     19462  "
      ]
     },
     "execution_count": 343,
     "metadata": {},
     "output_type": "execute_result"
    }
   ],
   "source": [
    "A"
   ]
  },
  {
   "cell_type": "code",
   "execution_count": 347,
   "metadata": {
    "collapsed": true
   },
   "outputs": [],
   "source": [
    "Slip = pd.DataFrame(np.zeros((17,10)), index = m, \n",
    "                     columns = ['RF Thin', 'SI Thin', 'NF Thin', 'SS Thin', 'DS Pap', 'Blaser', 'All Wells', \n",
    "                                'SS Wells', 'RF Wells', 'NF Wells'])"
   ]
  },
  {
   "cell_type": "code",
   "execution_count": 356,
   "metadata": {
    "collapsed": true
   },
   "outputs": [],
   "source": [
    "for i in range(len(m)):\n",
    "    Slip.iloc[i,:] = M0[i]/3.3/(10**16)/A.iloc[i,:]"
   ]
  },
  {
   "cell_type": "code",
   "execution_count": 359,
   "metadata": {},
   "outputs": [],
   "source": [
    "Slip = np.around(Slip,2)"
   ]
  },
  {
   "cell_type": "code",
   "execution_count": 362,
   "metadata": {},
   "outputs": [
    {
     "data": {
      "text/html": [
       "<div>\n",
       "<style>\n",
       "    .dataframe thead tr:only-child th {\n",
       "        text-align: right;\n",
       "    }\n",
       "\n",
       "    .dataframe thead th {\n",
       "        text-align: left;\n",
       "    }\n",
       "\n",
       "    .dataframe tbody tr th {\n",
       "        vertical-align: top;\n",
       "    }\n",
       "</style>\n",
       "<table border=\"1\" class=\"dataframe\">\n",
       "  <thead>\n",
       "    <tr style=\"text-align: right;\">\n",
       "      <th></th>\n",
       "      <th>RF Thin</th>\n",
       "      <th>SI Thin</th>\n",
       "      <th>NF Thin</th>\n",
       "      <th>SS Thin</th>\n",
       "      <th>DS Pap</th>\n",
       "      <th>Blaser</th>\n",
       "      <th>All Wells</th>\n",
       "      <th>SS Wells</th>\n",
       "      <th>RF Wells</th>\n",
       "      <th>NF Wells</th>\n",
       "    </tr>\n",
       "  </thead>\n",
       "  <tbody>\n",
       "    <tr>\n",
       "      <th>7.0</th>\n",
       "      <td>1.12</td>\n",
       "      <td>0.48</td>\n",
       "      <td>0.85</td>\n",
       "      <td>0.84</td>\n",
       "      <td>0.67</td>\n",
       "      <td>1.11</td>\n",
       "      <td>1.29</td>\n",
       "      <td>1.40</td>\n",
       "      <td>1.36</td>\n",
       "      <td>1.28</td>\n",
       "    </tr>\n",
       "    <tr>\n",
       "      <th>7.1</th>\n",
       "      <td>1.27</td>\n",
       "      <td>0.55</td>\n",
       "      <td>0.99</td>\n",
       "      <td>0.97</td>\n",
       "      <td>0.79</td>\n",
       "      <td>1.27</td>\n",
       "      <td>1.51</td>\n",
       "      <td>1.60</td>\n",
       "      <td>1.52</td>\n",
       "      <td>1.47</td>\n",
       "    </tr>\n",
       "    <tr>\n",
       "      <th>7.2</th>\n",
       "      <td>1.40</td>\n",
       "      <td>0.62</td>\n",
       "      <td>1.17</td>\n",
       "      <td>1.07</td>\n",
       "      <td>0.91</td>\n",
       "      <td>1.42</td>\n",
       "      <td>1.68</td>\n",
       "      <td>1.83</td>\n",
       "      <td>1.71</td>\n",
       "      <td>1.72</td>\n",
       "    </tr>\n",
       "    <tr>\n",
       "      <th>7.3</th>\n",
       "      <td>1.53</td>\n",
       "      <td>0.70</td>\n",
       "      <td>1.35</td>\n",
       "      <td>1.23</td>\n",
       "      <td>1.05</td>\n",
       "      <td>1.58</td>\n",
       "      <td>1.95</td>\n",
       "      <td>2.10</td>\n",
       "      <td>1.94</td>\n",
       "      <td>1.98</td>\n",
       "    </tr>\n",
       "    <tr>\n",
       "      <th>7.4</th>\n",
       "      <td>1.72</td>\n",
       "      <td>0.80</td>\n",
       "      <td>1.61</td>\n",
       "      <td>1.43</td>\n",
       "      <td>1.22</td>\n",
       "      <td>1.75</td>\n",
       "      <td>2.22</td>\n",
       "      <td>2.42</td>\n",
       "      <td>2.14</td>\n",
       "      <td>2.32</td>\n",
       "    </tr>\n",
       "    <tr>\n",
       "      <th>7.5</th>\n",
       "      <td>1.89</td>\n",
       "      <td>0.91</td>\n",
       "      <td>1.89</td>\n",
       "      <td>1.59</td>\n",
       "      <td>1.41</td>\n",
       "      <td>1.94</td>\n",
       "      <td>2.49</td>\n",
       "      <td>2.80</td>\n",
       "      <td>2.45</td>\n",
       "      <td>2.64</td>\n",
       "    </tr>\n",
       "    <tr>\n",
       "      <th>7.6</th>\n",
       "      <td>2.11</td>\n",
       "      <td>1.03</td>\n",
       "      <td>2.21</td>\n",
       "      <td>1.78</td>\n",
       "      <td>1.64</td>\n",
       "      <td>2.16</td>\n",
       "      <td>2.96</td>\n",
       "      <td>3.07</td>\n",
       "      <td>2.75</td>\n",
       "      <td>3.12</td>\n",
       "    </tr>\n",
       "    <tr>\n",
       "      <th>7.7</th>\n",
       "      <td>2.33</td>\n",
       "      <td>1.17</td>\n",
       "      <td>2.55</td>\n",
       "      <td>2.08</td>\n",
       "      <td>1.91</td>\n",
       "      <td>2.42</td>\n",
       "      <td>3.39</td>\n",
       "      <td>3.59</td>\n",
       "      <td>3.11</td>\n",
       "      <td>3.60</td>\n",
       "    </tr>\n",
       "    <tr>\n",
       "      <th>7.8</th>\n",
       "      <td>2.57</td>\n",
       "      <td>1.32</td>\n",
       "      <td>3.02</td>\n",
       "      <td>2.35</td>\n",
       "      <td>2.22</td>\n",
       "      <td>2.70</td>\n",
       "      <td>3.79</td>\n",
       "      <td>4.19</td>\n",
       "      <td>3.44</td>\n",
       "      <td>4.16</td>\n",
       "    </tr>\n",
       "    <tr>\n",
       "      <th>7.9</th>\n",
       "      <td>2.83</td>\n",
       "      <td>1.50</td>\n",
       "      <td>3.52</td>\n",
       "      <td>2.67</td>\n",
       "      <td>2.55</td>\n",
       "      <td>3.00</td>\n",
       "      <td>4.39</td>\n",
       "      <td>4.71</td>\n",
       "      <td>3.86</td>\n",
       "      <td>4.90</td>\n",
       "    </tr>\n",
       "    <tr>\n",
       "      <th>8.0</th>\n",
       "      <td>3.15</td>\n",
       "      <td>1.70</td>\n",
       "      <td>4.14</td>\n",
       "      <td>3.04</td>\n",
       "      <td>2.96</td>\n",
       "      <td>3.32</td>\n",
       "      <td>5.09</td>\n",
       "      <td>5.55</td>\n",
       "      <td>4.36</td>\n",
       "      <td>5.60</td>\n",
       "    </tr>\n",
       "    <tr>\n",
       "      <th>8.1</th>\n",
       "      <td>3.49</td>\n",
       "      <td>1.93</td>\n",
       "      <td>4.89</td>\n",
       "      <td>3.47</td>\n",
       "      <td>3.43</td>\n",
       "      <td>3.72</td>\n",
       "      <td>5.80</td>\n",
       "      <td>6.29</td>\n",
       "      <td>4.96</td>\n",
       "      <td>6.49</td>\n",
       "    </tr>\n",
       "    <tr>\n",
       "      <th>8.2</th>\n",
       "      <td>3.90</td>\n",
       "      <td>2.20</td>\n",
       "      <td>5.71</td>\n",
       "      <td>3.87</td>\n",
       "      <td>3.96</td>\n",
       "      <td>4.12</td>\n",
       "      <td>6.62</td>\n",
       "      <td>7.41</td>\n",
       "      <td>5.58</td>\n",
       "      <td>7.57</td>\n",
       "    </tr>\n",
       "    <tr>\n",
       "      <th>8.3</th>\n",
       "      <td>4.35</td>\n",
       "      <td>2.49</td>\n",
       "      <td>6.71</td>\n",
       "      <td>4.46</td>\n",
       "      <td>4.59</td>\n",
       "      <td>4.58</td>\n",
       "      <td>7.61</td>\n",
       "      <td>8.47</td>\n",
       "      <td>6.23</td>\n",
       "      <td>8.88</td>\n",
       "    </tr>\n",
       "    <tr>\n",
       "      <th>8.4</th>\n",
       "      <td>4.80</td>\n",
       "      <td>2.84</td>\n",
       "      <td>7.81</td>\n",
       "      <td>5.02</td>\n",
       "      <td>5.35</td>\n",
       "      <td>5.12</td>\n",
       "      <td>8.60</td>\n",
       "      <td>9.72</td>\n",
       "      <td>7.03</td>\n",
       "      <td>10.28</td>\n",
       "    </tr>\n",
       "    <tr>\n",
       "      <th>8.5</th>\n",
       "      <td>5.32</td>\n",
       "      <td>3.21</td>\n",
       "      <td>9.18</td>\n",
       "      <td>5.80</td>\n",
       "      <td>6.21</td>\n",
       "      <td>5.71</td>\n",
       "      <td>9.97</td>\n",
       "      <td>11.22</td>\n",
       "      <td>7.87</td>\n",
       "      <td>12.02</td>\n",
       "    </tr>\n",
       "    <tr>\n",
       "      <th>8.6</th>\n",
       "      <td>5.91</td>\n",
       "      <td>3.65</td>\n",
       "      <td>10.80</td>\n",
       "      <td>6.59</td>\n",
       "      <td>7.14</td>\n",
       "      <td>6.35</td>\n",
       "      <td>11.39</td>\n",
       "      <td>12.98</td>\n",
       "      <td>8.90</td>\n",
       "      <td>13.88</td>\n",
       "    </tr>\n",
       "  </tbody>\n",
       "</table>\n",
       "</div>"
      ],
      "text/plain": [
       "     RF Thin  SI Thin  NF Thin  SS Thin  DS Pap  Blaser  All Wells  SS Wells  \\\n",
       "7.0     1.12     0.48     0.85     0.84    0.67    1.11       1.29      1.40   \n",
       "7.1     1.27     0.55     0.99     0.97    0.79    1.27       1.51      1.60   \n",
       "7.2     1.40     0.62     1.17     1.07    0.91    1.42       1.68      1.83   \n",
       "7.3     1.53     0.70     1.35     1.23    1.05    1.58       1.95      2.10   \n",
       "7.4     1.72     0.80     1.61     1.43    1.22    1.75       2.22      2.42   \n",
       "7.5     1.89     0.91     1.89     1.59    1.41    1.94       2.49      2.80   \n",
       "7.6     2.11     1.03     2.21     1.78    1.64    2.16       2.96      3.07   \n",
       "7.7     2.33     1.17     2.55     2.08    1.91    2.42       3.39      3.59   \n",
       "7.8     2.57     1.32     3.02     2.35    2.22    2.70       3.79      4.19   \n",
       "7.9     2.83     1.50     3.52     2.67    2.55    3.00       4.39      4.71   \n",
       "8.0     3.15     1.70     4.14     3.04    2.96    3.32       5.09      5.55   \n",
       "8.1     3.49     1.93     4.89     3.47    3.43    3.72       5.80      6.29   \n",
       "8.2     3.90     2.20     5.71     3.87    3.96    4.12       6.62      7.41   \n",
       "8.3     4.35     2.49     6.71     4.46    4.59    4.58       7.61      8.47   \n",
       "8.4     4.80     2.84     7.81     5.02    5.35    5.12       8.60      9.72   \n",
       "8.5     5.32     3.21     9.18     5.80    6.21    5.71       9.97     11.22   \n",
       "8.6     5.91     3.65    10.80     6.59    7.14    6.35      11.39     12.98   \n",
       "\n",
       "     RF Wells  NF Wells  \n",
       "7.0      1.36      1.28  \n",
       "7.1      1.52      1.47  \n",
       "7.2      1.71      1.72  \n",
       "7.3      1.94      1.98  \n",
       "7.4      2.14      2.32  \n",
       "7.5      2.45      2.64  \n",
       "7.6      2.75      3.12  \n",
       "7.7      3.11      3.60  \n",
       "7.8      3.44      4.16  \n",
       "7.9      3.86      4.90  \n",
       "8.0      4.36      5.60  \n",
       "8.1      4.96      6.49  \n",
       "8.2      5.58      7.57  \n",
       "8.3      6.23      8.88  \n",
       "8.4      7.03     10.28  \n",
       "8.5      7.87     12.02  \n",
       "8.6      8.90     13.88  "
      ]
     },
     "execution_count": 362,
     "metadata": {},
     "output_type": "execute_result"
    }
   ],
   "source": [
    "Slip"
   ]
  },
  {
   "cell_type": "code",
   "execution_count": 363,
   "metadata": {},
   "outputs": [
    {
     "data": {
      "text/html": [
       "<div>\n",
       "<style>\n",
       "    .dataframe thead tr:only-child th {\n",
       "        text-align: right;\n",
       "    }\n",
       "\n",
       "    .dataframe thead th {\n",
       "        text-align: left;\n",
       "    }\n",
       "\n",
       "    .dataframe tbody tr th {\n",
       "        vertical-align: top;\n",
       "    }\n",
       "</style>\n",
       "<table border=\"1\" class=\"dataframe\">\n",
       "  <thead>\n",
       "    <tr style=\"text-align: right;\">\n",
       "      <th></th>\n",
       "      <th>RF Thin</th>\n",
       "      <th>SI Thin</th>\n",
       "      <th>NF Thin</th>\n",
       "      <th>SS Thin</th>\n",
       "      <th>DS Pap</th>\n",
       "      <th>Blaser</th>\n",
       "      <th>All Wells</th>\n",
       "      <th>SS Wells</th>\n",
       "      <th>RF Wells</th>\n",
       "      <th>NF Wells</th>\n",
       "    </tr>\n",
       "  </thead>\n",
       "  <tbody>\n",
       "    <tr>\n",
       "      <th>7.0</th>\n",
       "      <td>1.12</td>\n",
       "      <td>0.48</td>\n",
       "      <td>0.85</td>\n",
       "      <td>0.84</td>\n",
       "      <td>0.67</td>\n",
       "      <td>1.11</td>\n",
       "      <td>1.29</td>\n",
       "      <td>1.40</td>\n",
       "      <td>1.36</td>\n",
       "      <td>1.28</td>\n",
       "    </tr>\n",
       "    <tr>\n",
       "      <th>7.2</th>\n",
       "      <td>1.40</td>\n",
       "      <td>0.62</td>\n",
       "      <td>1.17</td>\n",
       "      <td>1.07</td>\n",
       "      <td>0.91</td>\n",
       "      <td>1.42</td>\n",
       "      <td>1.68</td>\n",
       "      <td>1.83</td>\n",
       "      <td>1.71</td>\n",
       "      <td>1.72</td>\n",
       "    </tr>\n",
       "    <tr>\n",
       "      <th>7.4</th>\n",
       "      <td>1.72</td>\n",
       "      <td>0.80</td>\n",
       "      <td>1.61</td>\n",
       "      <td>1.43</td>\n",
       "      <td>1.22</td>\n",
       "      <td>1.75</td>\n",
       "      <td>2.22</td>\n",
       "      <td>2.42</td>\n",
       "      <td>2.14</td>\n",
       "      <td>2.32</td>\n",
       "    </tr>\n",
       "    <tr>\n",
       "      <th>7.6</th>\n",
       "      <td>2.11</td>\n",
       "      <td>1.03</td>\n",
       "      <td>2.21</td>\n",
       "      <td>1.78</td>\n",
       "      <td>1.64</td>\n",
       "      <td>2.16</td>\n",
       "      <td>2.96</td>\n",
       "      <td>3.07</td>\n",
       "      <td>2.75</td>\n",
       "      <td>3.12</td>\n",
       "    </tr>\n",
       "    <tr>\n",
       "      <th>7.8</th>\n",
       "      <td>2.57</td>\n",
       "      <td>1.32</td>\n",
       "      <td>3.02</td>\n",
       "      <td>2.35</td>\n",
       "      <td>2.22</td>\n",
       "      <td>2.70</td>\n",
       "      <td>3.79</td>\n",
       "      <td>4.19</td>\n",
       "      <td>3.44</td>\n",
       "      <td>4.16</td>\n",
       "    </tr>\n",
       "    <tr>\n",
       "      <th>8.0</th>\n",
       "      <td>3.15</td>\n",
       "      <td>1.70</td>\n",
       "      <td>4.14</td>\n",
       "      <td>3.04</td>\n",
       "      <td>2.96</td>\n",
       "      <td>3.32</td>\n",
       "      <td>5.09</td>\n",
       "      <td>5.55</td>\n",
       "      <td>4.36</td>\n",
       "      <td>5.60</td>\n",
       "    </tr>\n",
       "    <tr>\n",
       "      <th>8.2</th>\n",
       "      <td>3.90</td>\n",
       "      <td>2.20</td>\n",
       "      <td>5.71</td>\n",
       "      <td>3.87</td>\n",
       "      <td>3.96</td>\n",
       "      <td>4.12</td>\n",
       "      <td>6.62</td>\n",
       "      <td>7.41</td>\n",
       "      <td>5.58</td>\n",
       "      <td>7.57</td>\n",
       "    </tr>\n",
       "    <tr>\n",
       "      <th>8.4</th>\n",
       "      <td>4.80</td>\n",
       "      <td>2.84</td>\n",
       "      <td>7.81</td>\n",
       "      <td>5.02</td>\n",
       "      <td>5.35</td>\n",
       "      <td>5.12</td>\n",
       "      <td>8.60</td>\n",
       "      <td>9.72</td>\n",
       "      <td>7.03</td>\n",
       "      <td>10.28</td>\n",
       "    </tr>\n",
       "    <tr>\n",
       "      <th>8.6</th>\n",
       "      <td>5.91</td>\n",
       "      <td>3.65</td>\n",
       "      <td>10.80</td>\n",
       "      <td>6.59</td>\n",
       "      <td>7.14</td>\n",
       "      <td>6.35</td>\n",
       "      <td>11.39</td>\n",
       "      <td>12.98</td>\n",
       "      <td>8.90</td>\n",
       "      <td>13.88</td>\n",
       "    </tr>\n",
       "  </tbody>\n",
       "</table>\n",
       "</div>"
      ],
      "text/plain": [
       "     RF Thin  SI Thin  NF Thin  SS Thin  DS Pap  Blaser  All Wells  SS Wells  \\\n",
       "7.0     1.12     0.48     0.85     0.84    0.67    1.11       1.29      1.40   \n",
       "7.2     1.40     0.62     1.17     1.07    0.91    1.42       1.68      1.83   \n",
       "7.4     1.72     0.80     1.61     1.43    1.22    1.75       2.22      2.42   \n",
       "7.6     2.11     1.03     2.21     1.78    1.64    2.16       2.96      3.07   \n",
       "7.8     2.57     1.32     3.02     2.35    2.22    2.70       3.79      4.19   \n",
       "8.0     3.15     1.70     4.14     3.04    2.96    3.32       5.09      5.55   \n",
       "8.2     3.90     2.20     5.71     3.87    3.96    4.12       6.62      7.41   \n",
       "8.4     4.80     2.84     7.81     5.02    5.35    5.12       8.60      9.72   \n",
       "8.6     5.91     3.65    10.80     6.59    7.14    6.35      11.39     12.98   \n",
       "\n",
       "     RF Wells  NF Wells  \n",
       "7.0      1.36      1.28  \n",
       "7.2      1.71      1.72  \n",
       "7.4      2.14      2.32  \n",
       "7.6      2.75      3.12  \n",
       "7.8      3.44      4.16  \n",
       "8.0      4.36      5.60  \n",
       "8.2      5.58      7.57  \n",
       "8.4      7.03     10.28  \n",
       "8.6      8.90     13.88  "
      ]
     },
     "execution_count": 363,
     "metadata": {},
     "output_type": "execute_result"
    }
   ],
   "source": [
    "Slip.iloc[::2, :]"
   ]
  },
  {
   "cell_type": "code",
   "execution_count": 369,
   "metadata": {},
   "outputs": [
    {
     "data": {
      "text/plain": [
       "2.197718631178707"
      ]
     },
     "execution_count": 369,
     "metadata": {},
     "output_type": "execute_result"
    }
   ],
   "source": [
    "578/263"
   ]
  },
  {
   "cell_type": "code",
   "execution_count": 367,
   "metadata": {},
   "outputs": [
    {
     "data": {
      "text/plain": [
       "371.42857142857144"
      ]
     },
     "execution_count": 367,
     "metadata": {},
     "output_type": "execute_result"
    }
   ],
   "source": [
    "(132-28)/28*100"
   ]
  },
  {
   "cell_type": "code",
   "execution_count": 368,
   "metadata": {},
   "outputs": [
    {
     "data": {
      "text/plain": [
       "1.4047619047619047"
      ]
     },
     "execution_count": 368,
     "metadata": {},
     "output_type": "execute_result"
    }
   ],
   "source": [
    "59/42"
   ]
  },
  {
   "cell_type": "code",
   "execution_count": 370,
   "metadata": {},
   "outputs": [
    {
     "data": {
      "text/plain": [
       "1040"
      ]
     },
     "execution_count": 370,
     "metadata": {},
     "output_type": "execute_result"
    }
   ],
   "source": [
    "26*40"
   ]
  },
  {
   "cell_type": "code",
   "execution_count": null,
   "metadata": {
    "collapsed": true
   },
   "outputs": [],
   "source": []
  }
 ],
 "metadata": {
  "kernelspec": {
   "display_name": "Python 3",
   "language": "python",
   "name": "python3"
  },
  "language_info": {
   "codemirror_mode": {
    "name": "ipython",
    "version": 3
   },
   "file_extension": ".py",
   "mimetype": "text/x-python",
   "name": "python",
   "nbconvert_exporter": "python",
   "pygments_lexer": "ipython3",
   "version": "3.6.4"
  }
 },
 "nbformat": 4,
 "nbformat_minor": 2
}
